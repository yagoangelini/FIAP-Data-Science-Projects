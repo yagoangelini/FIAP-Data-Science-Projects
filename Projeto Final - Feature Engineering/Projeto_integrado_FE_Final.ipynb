{
 "cells": [
  {
   "cell_type": "markdown",
   "metadata": {},
   "source": [
    "# Projeto integrado - Feature Engineering"
   ]
  },
  {
   "cell_type": "markdown",
   "metadata": {},
   "source": [
    "# Importações, funções e variaveis auxiliares"
   ]
  },
  {
   "cell_type": "code",
   "execution_count": 1,
   "metadata": {},
   "outputs": [],
   "source": [
    "#!pip install unidecode\n",
    "#!pip install feature-engine"
   ]
  },
  {
   "cell_type": "code",
   "execution_count": 2,
   "metadata": {},
   "outputs": [],
   "source": [
    "import pandas as pd\n",
    "import numpy as np\n",
    "import matplotlib.pyplot as plt\n",
    "import seaborn as sns\n",
    "from sklearn.model_selection import train_test_split\n",
    "from feature_engine.encoding import RareLabelEncoder\n",
    "import unicodedata\n",
    "import re\n",
    "import warnings\n",
    "\n",
    "warnings.filterwarnings(\"ignore\")"
   ]
  },
  {
   "cell_type": "code",
   "execution_count": 3,
   "metadata": {},
   "outputs": [],
   "source": [
    "df = pd.read_csv(\"https://raw.githubusercontent.com/diogenesjusto/FIAP/master/dados/credit.csv\", encoding='unicode_escape',\n",
    "sep='\\t',header=None,index_col=\"ID_CLIENTE\",names=[\"ID_CLIENTE\",\"TIPO_FUNCIONARIO\",\"DIA_PAGAMENTO\",\"TIPO_ENVIO_APLICACAO\",\"QUANT_CARTOES_ADICIONAIS\",\"TIPO_ENDERECO_POSTAL\",\"SEXO\",\"ESTADO_CIVIL\",\"QUANT_DEPENDENTES\",\"NIVEL_EDUCACIONAL\",\"ESTADO_NASCIMENTO\",\"CIDADE_NASCIMENTO\",\"NACIONALIDADE\",\"ESTADO_RESIDENCIAL\",\"CIDADE_RESIDENCIAL\",\"BAIRRO_RESIDENCIAL\",\"FLAG_TELEFONE_RESIDENCIAL\",\"CODIGO_AREA_TELEFONE_RESIDENCIAL\",\"TIPO_RESIDENCIA\",\"MESES_RESIDENCIA\",\"FLAG_TELEFONE_MOVEL\",\"FLAG_EMAIL\",\"RENDA_PESSOAL_MENSAL\",\"OUTRAS_RENDAS\",\"FLAG_VISA\",\"FLAG_MASTERCARD\",\"FLAG_DINERS\",\"FLAG_AMERICAN_EXPRESS\",\"FLAG_OUTROS_CARTOES\",\"QUANT_CONTAS_BANCARIAS\",\"QUANT_CONTAS_BANCARIAS_ESPECIAIS\",\"VALOR_PATRIMONIO_PESSOAL\",\"QUANT_CARROS\",\"EMPRESA\",\"ESTADO_PROFISSIONAL\",\"CIDADE_PROFISSIONAL\",\"BAIRRO_PROFISSIONAL\",\"FLAG_TELEFONE_PROFISSIONAL\",\"CODIGO_AREA_TELEFONE_PROFISSIONAL\",\"MESES_NO_TRABALHO\",\"CODIGO_PROFISSAO\",\"TIPO_OCUPACAO\",\"CODIGO_PROFISSAO_CONJUGE\",\"NIVEL_EDUCACIONAL_CONJUGE\",\"FLAG_DOCUMENTO_RESIDENCIAL\",\"FLAG_RG\",\"FLAG_CPF\",\"FLAG_COMPROVANTE_RENDA\",\"PRODUTO\",\"FLAG_REGISTRO_ACSP\",\"IDADE\",\"CEP_RESIDENCIAL_3\",\"CEP_PROFISSIONAL_3\",\"ROTULO_ALVO_MAU_1\"])"
   ]
  },
  {
   "cell_type": "code",
   "execution_count": 4,
   "metadata": {},
   "outputs": [],
   "source": [
    "# Variavel para agrupar as colunas em que será aplicado One-Hot Encoding\n",
    "aplicar_OHE = []\n",
    "# Variavel para agrupar as colunas em que será aplicado Rare Label Encoding\n",
    "aplicar_RL = {}\n",
    "# Variavel para agrupar as colunas em que será aplicado Count Frequency Encoding\n",
    "aplicar_CF = []"
   ]
  },
  {
   "cell_type": "markdown",
   "metadata": {},
   "source": [
    "Fazer tratamento em textos"
   ]
  },
  {
   "cell_type": "code",
   "execution_count": 5,
   "metadata": {},
   "outputs": [],
   "source": [
    "def limpar_texto(texto):    \n",
    "    # Remove acentuações\n",
    "    texto = unicodedata.normalize('NFKD', texto).encode('ASCII', 'ignore').decode('utf-8')\n",
    "    \n",
    "    # Remove dígitos\n",
    "    texto = re.sub(r'\\d+', '', texto)\n",
    "    \n",
    "    # Remove caracteres especiais e mantém apenas letras e espaços\n",
    "    texto = re.sub(r'[^a-z\\s]', '', texto)\n",
    "    \n",
    "    # Remove espaços extras\n",
    "    texto = re.sub(r'\\s+', ' ', texto).strip()\n",
    "\n",
    "    return texto if len(texto)>3 and re.search(r'[aeiou]', texto) else pd.NA"
   ]
  },
  {
   "cell_type": "markdown",
   "metadata": {},
   "source": [
    "Converter as colunas para categóricas binárias"
   ]
  },
  {
   "cell_type": "code",
   "execution_count": 6,
   "metadata": {},
   "outputs": [],
   "source": [
    "def converter_para_bool(df, colunas):\n",
    "    \"\"\"\n",
    "    Converte as colunas especificadas para o tipo bool no dataframe automaticamente,\n",
    "    mapeando os dois valores distintos para True e False.\n",
    "    \n",
    "    Parâmetros:\n",
    "    - df: DataFrame\n",
    "    - colunas: Lista com os nomes das colunas a serem convertidas\n",
    "    \n",
    "    Retorno:\n",
    "    - DataFrame com as colunas convertidas para booleano\n",
    "    \"\"\"\n",
    "    for coluna in colunas:\n",
    "        if coluna in df.columns:\n",
    "            # Obtém os valores únicos da coluna\n",
    "            valores_unicos = df[coluna].dropna().unique()\n",
    "            \n",
    "            # Cria o mapeamento entre os valores únicos e True/False\n",
    "            mapeamento = {valores_unicos[0]: False, valores_unicos[1]: True}\n",
    "            df[coluna] = df[coluna].map(mapeamento).astype('bool')"
   ]
  },
  {
   "cell_type": "markdown",
   "metadata": {},
   "source": [
    "# Análise inicial"
   ]
  },
  {
   "cell_type": "code",
   "execution_count": 7,
   "metadata": {},
   "outputs": [
    {
     "data": {
      "text/html": [
       "<div>\n",
       "<style scoped>\n",
       "    .dataframe tbody tr th:only-of-type {\n",
       "        vertical-align: middle;\n",
       "    }\n",
       "\n",
       "    .dataframe tbody tr th {\n",
       "        vertical-align: top;\n",
       "    }\n",
       "\n",
       "    .dataframe thead th {\n",
       "        text-align: right;\n",
       "    }\n",
       "</style>\n",
       "<table border=\"1\" class=\"dataframe\">\n",
       "  <thead>\n",
       "    <tr style=\"text-align: right;\">\n",
       "      <th></th>\n",
       "      <th>TIPO_FUNCIONARIO</th>\n",
       "      <th>DIA_PAGAMENTO</th>\n",
       "      <th>TIPO_ENVIO_APLICACAO</th>\n",
       "      <th>QUANT_CARTOES_ADICIONAIS</th>\n",
       "      <th>TIPO_ENDERECO_POSTAL</th>\n",
       "      <th>SEXO</th>\n",
       "      <th>ESTADO_CIVIL</th>\n",
       "      <th>QUANT_DEPENDENTES</th>\n",
       "      <th>NIVEL_EDUCACIONAL</th>\n",
       "      <th>ESTADO_NASCIMENTO</th>\n",
       "      <th>...</th>\n",
       "      <th>FLAG_DOCUMENTO_RESIDENCIAL</th>\n",
       "      <th>FLAG_RG</th>\n",
       "      <th>FLAG_CPF</th>\n",
       "      <th>FLAG_COMPROVANTE_RENDA</th>\n",
       "      <th>PRODUTO</th>\n",
       "      <th>FLAG_REGISTRO_ACSP</th>\n",
       "      <th>IDADE</th>\n",
       "      <th>CEP_RESIDENCIAL_3</th>\n",
       "      <th>CEP_PROFISSIONAL_3</th>\n",
       "      <th>ROTULO_ALVO_MAU_1</th>\n",
       "    </tr>\n",
       "    <tr>\n",
       "      <th>ID_CLIENTE</th>\n",
       "      <th></th>\n",
       "      <th></th>\n",
       "      <th></th>\n",
       "      <th></th>\n",
       "      <th></th>\n",
       "      <th></th>\n",
       "      <th></th>\n",
       "      <th></th>\n",
       "      <th></th>\n",
       "      <th></th>\n",
       "      <th></th>\n",
       "      <th></th>\n",
       "      <th></th>\n",
       "      <th></th>\n",
       "      <th></th>\n",
       "      <th></th>\n",
       "      <th></th>\n",
       "      <th></th>\n",
       "      <th></th>\n",
       "      <th></th>\n",
       "      <th></th>\n",
       "    </tr>\n",
       "  </thead>\n",
       "  <tbody>\n",
       "    <tr>\n",
       "      <th>1</th>\n",
       "      <td>C</td>\n",
       "      <td>5</td>\n",
       "      <td>Web</td>\n",
       "      <td>0</td>\n",
       "      <td>1</td>\n",
       "      <td>F</td>\n",
       "      <td>6</td>\n",
       "      <td>1</td>\n",
       "      <td>0</td>\n",
       "      <td>RN</td>\n",
       "      <td>...</td>\n",
       "      <td>0</td>\n",
       "      <td>0</td>\n",
       "      <td>0</td>\n",
       "      <td>0</td>\n",
       "      <td>1</td>\n",
       "      <td>N</td>\n",
       "      <td>32</td>\n",
       "      <td>595</td>\n",
       "      <td>595</td>\n",
       "      <td>1</td>\n",
       "    </tr>\n",
       "    <tr>\n",
       "      <th>2</th>\n",
       "      <td>C</td>\n",
       "      <td>15</td>\n",
       "      <td>Carga</td>\n",
       "      <td>0</td>\n",
       "      <td>1</td>\n",
       "      <td>F</td>\n",
       "      <td>2</td>\n",
       "      <td>0</td>\n",
       "      <td>0</td>\n",
       "      <td>RJ</td>\n",
       "      <td>...</td>\n",
       "      <td>0</td>\n",
       "      <td>0</td>\n",
       "      <td>0</td>\n",
       "      <td>0</td>\n",
       "      <td>1</td>\n",
       "      <td>N</td>\n",
       "      <td>34</td>\n",
       "      <td>230</td>\n",
       "      <td>230</td>\n",
       "      <td>1</td>\n",
       "    </tr>\n",
       "    <tr>\n",
       "      <th>3</th>\n",
       "      <td>C</td>\n",
       "      <td>5</td>\n",
       "      <td>Web</td>\n",
       "      <td>0</td>\n",
       "      <td>1</td>\n",
       "      <td>F</td>\n",
       "      <td>2</td>\n",
       "      <td>0</td>\n",
       "      <td>0</td>\n",
       "      <td>RN</td>\n",
       "      <td>...</td>\n",
       "      <td>0</td>\n",
       "      <td>0</td>\n",
       "      <td>0</td>\n",
       "      <td>0</td>\n",
       "      <td>1</td>\n",
       "      <td>N</td>\n",
       "      <td>27</td>\n",
       "      <td>591</td>\n",
       "      <td>591</td>\n",
       "      <td>0</td>\n",
       "    </tr>\n",
       "    <tr>\n",
       "      <th>4</th>\n",
       "      <td>C</td>\n",
       "      <td>20</td>\n",
       "      <td>Web</td>\n",
       "      <td>0</td>\n",
       "      <td>1</td>\n",
       "      <td>F</td>\n",
       "      <td>2</td>\n",
       "      <td>0</td>\n",
       "      <td>0</td>\n",
       "      <td>PE</td>\n",
       "      <td>...</td>\n",
       "      <td>0</td>\n",
       "      <td>0</td>\n",
       "      <td>0</td>\n",
       "      <td>0</td>\n",
       "      <td>1</td>\n",
       "      <td>N</td>\n",
       "      <td>61</td>\n",
       "      <td>545</td>\n",
       "      <td>545</td>\n",
       "      <td>0</td>\n",
       "    </tr>\n",
       "    <tr>\n",
       "      <th>5</th>\n",
       "      <td>C</td>\n",
       "      <td>10</td>\n",
       "      <td>Web</td>\n",
       "      <td>0</td>\n",
       "      <td>1</td>\n",
       "      <td>M</td>\n",
       "      <td>2</td>\n",
       "      <td>0</td>\n",
       "      <td>0</td>\n",
       "      <td>RJ</td>\n",
       "      <td>...</td>\n",
       "      <td>0</td>\n",
       "      <td>0</td>\n",
       "      <td>0</td>\n",
       "      <td>0</td>\n",
       "      <td>1</td>\n",
       "      <td>N</td>\n",
       "      <td>48</td>\n",
       "      <td>235</td>\n",
       "      <td>235</td>\n",
       "      <td>1</td>\n",
       "    </tr>\n",
       "  </tbody>\n",
       "</table>\n",
       "<p>5 rows × 53 columns</p>\n",
       "</div>"
      ],
      "text/plain": [
       "           TIPO_FUNCIONARIO  DIA_PAGAMENTO TIPO_ENVIO_APLICACAO  \\\n",
       "ID_CLIENTE                                                        \n",
       "1                         C              5                  Web   \n",
       "2                         C             15                Carga   \n",
       "3                         C              5                  Web   \n",
       "4                         C             20                  Web   \n",
       "5                         C             10                  Web   \n",
       "\n",
       "            QUANT_CARTOES_ADICIONAIS  TIPO_ENDERECO_POSTAL SEXO  ESTADO_CIVIL  \\\n",
       "ID_CLIENTE                                                                      \n",
       "1                                  0                     1    F             6   \n",
       "2                                  0                     1    F             2   \n",
       "3                                  0                     1    F             2   \n",
       "4                                  0                     1    F             2   \n",
       "5                                  0                     1    M             2   \n",
       "\n",
       "            QUANT_DEPENDENTES  NIVEL_EDUCACIONAL ESTADO_NASCIMENTO  ...  \\\n",
       "ID_CLIENTE                                                          ...   \n",
       "1                           1                  0                RN  ...   \n",
       "2                           0                  0                RJ  ...   \n",
       "3                           0                  0                RN  ...   \n",
       "4                           0                  0                PE  ...   \n",
       "5                           0                  0                RJ  ...   \n",
       "\n",
       "           FLAG_DOCUMENTO_RESIDENCIAL  FLAG_RG FLAG_CPF  \\\n",
       "ID_CLIENTE                                                \n",
       "1                                   0        0        0   \n",
       "2                                   0        0        0   \n",
       "3                                   0        0        0   \n",
       "4                                   0        0        0   \n",
       "5                                   0        0        0   \n",
       "\n",
       "           FLAG_COMPROVANTE_RENDA PRODUTO FLAG_REGISTRO_ACSP IDADE  \\\n",
       "ID_CLIENTE                                                           \n",
       "1                               0       1                  N    32   \n",
       "2                               0       1                  N    34   \n",
       "3                               0       1                  N    27   \n",
       "4                               0       1                  N    61   \n",
       "5                               0       1                  N    48   \n",
       "\n",
       "            CEP_RESIDENCIAL_3  CEP_PROFISSIONAL_3 ROTULO_ALVO_MAU_1  \n",
       "ID_CLIENTE                                                           \n",
       "1                         595                 595                 1  \n",
       "2                         230                 230                 1  \n",
       "3                         591                 591                 0  \n",
       "4                         545                 545                 0  \n",
       "5                         235                 235                 1  \n",
       "\n",
       "[5 rows x 53 columns]"
      ]
     },
     "execution_count": 7,
     "metadata": {},
     "output_type": "execute_result"
    }
   ],
   "source": [
    "df.head()"
   ]
  },
  {
   "cell_type": "code",
   "execution_count": 8,
   "metadata": {},
   "outputs": [
    {
     "name": "stdout",
     "output_type": "stream",
     "text": [
      "<class 'pandas.core.frame.DataFrame'>\n",
      "Index: 50000 entries, 1 to 50000\n",
      "Data columns (total 53 columns):\n",
      " #   Column                             Non-Null Count  Dtype  \n",
      "---  ------                             --------------  -----  \n",
      " 0   TIPO_FUNCIONARIO                   50000 non-null  object \n",
      " 1   DIA_PAGAMENTO                      50000 non-null  int64  \n",
      " 2   TIPO_ENVIO_APLICACAO               50000 non-null  object \n",
      " 3   QUANT_CARTOES_ADICIONAIS           50000 non-null  int64  \n",
      " 4   TIPO_ENDERECO_POSTAL               50000 non-null  int64  \n",
      " 5   SEXO                               50000 non-null  object \n",
      " 6   ESTADO_CIVIL                       50000 non-null  int64  \n",
      " 7   QUANT_DEPENDENTES                  50000 non-null  int64  \n",
      " 8   NIVEL_EDUCACIONAL                  50000 non-null  int64  \n",
      " 9   ESTADO_NASCIMENTO                  50000 non-null  object \n",
      " 10  CIDADE_NASCIMENTO                  50000 non-null  object \n",
      " 11  NACIONALIDADE                      50000 non-null  int64  \n",
      " 12  ESTADO_RESIDENCIAL                 50000 non-null  object \n",
      " 13  CIDADE_RESIDENCIAL                 50000 non-null  object \n",
      " 14  BAIRRO_RESIDENCIAL                 50000 non-null  object \n",
      " 15  FLAG_TELEFONE_RESIDENCIAL          50000 non-null  object \n",
      " 16  CODIGO_AREA_TELEFONE_RESIDENCIAL   50000 non-null  object \n",
      " 17  TIPO_RESIDENCIA                    48651 non-null  float64\n",
      " 18  MESES_RESIDENCIA                   46223 non-null  float64\n",
      " 19  FLAG_TELEFONE_MOVEL                50000 non-null  object \n",
      " 20  FLAG_EMAIL                         50000 non-null  int64  \n",
      " 21  RENDA_PESSOAL_MENSAL               50000 non-null  float64\n",
      " 22  OUTRAS_RENDAS                      50000 non-null  float64\n",
      " 23  FLAG_VISA                          50000 non-null  int64  \n",
      " 24  FLAG_MASTERCARD                    50000 non-null  int64  \n",
      " 25  FLAG_DINERS                        50000 non-null  int64  \n",
      " 26  FLAG_AMERICAN_EXPRESS              50000 non-null  int64  \n",
      " 27  FLAG_OUTROS_CARTOES                50000 non-null  int64  \n",
      " 28  QUANT_CONTAS_BANCARIAS             50000 non-null  int64  \n",
      " 29  QUANT_CONTAS_BANCARIAS_ESPECIAIS   50000 non-null  int64  \n",
      " 30  VALOR_PATRIMONIO_PESSOAL           50000 non-null  float64\n",
      " 31  QUANT_CARROS                       50000 non-null  int64  \n",
      " 32  EMPRESA                            50000 non-null  object \n",
      " 33  ESTADO_PROFISSIONAL                50000 non-null  object \n",
      " 34  CIDADE_PROFISSIONAL                16217 non-null  object \n",
      " 35  BAIRRO_PROFISSIONAL                16217 non-null  object \n",
      " 36  FLAG_TELEFONE_PROFISSIONAL         50000 non-null  object \n",
      " 37  CODIGO_AREA_TELEFONE_PROFISSIONAL  50000 non-null  object \n",
      " 38  MESES_NO_TRABALHO                  50000 non-null  int64  \n",
      " 39  CODIGO_PROFISSAO                   42244 non-null  float64\n",
      " 40  TIPO_OCUPACAO                      42687 non-null  float64\n",
      " 41  CODIGO_PROFISSAO_CONJUGE           21116 non-null  float64\n",
      " 42  NIVEL_EDUCACIONAL_CONJUGE          17662 non-null  float64\n",
      " 43  FLAG_DOCUMENTO_RESIDENCIAL         50000 non-null  int64  \n",
      " 44  FLAG_RG                            50000 non-null  int64  \n",
      " 45  FLAG_CPF                           50000 non-null  int64  \n",
      " 46  FLAG_COMPROVANTE_RENDA             50000 non-null  int64  \n",
      " 47  PRODUTO                            50000 non-null  int64  \n",
      " 48  FLAG_REGISTRO_ACSP                 50000 non-null  object \n",
      " 49  IDADE                              50000 non-null  int64  \n",
      " 50  CEP_RESIDENCIAL_3                  50000 non-null  object \n",
      " 51  CEP_PROFISSIONAL_3                 50000 non-null  object \n",
      " 52  ROTULO_ALVO_MAU_1                  50000 non-null  int64  \n",
      "dtypes: float64(9), int64(24), object(20)\n",
      "memory usage: 20.6+ MB\n"
     ]
    }
   ],
   "source": [
    "df.info()"
   ]
  },
  {
   "cell_type": "code",
   "execution_count": 9,
   "metadata": {},
   "outputs": [
    {
     "data": {
      "text/html": [
       "<div>\n",
       "<style scoped>\n",
       "    .dataframe tbody tr th:only-of-type {\n",
       "        vertical-align: middle;\n",
       "    }\n",
       "\n",
       "    .dataframe tbody tr th {\n",
       "        vertical-align: top;\n",
       "    }\n",
       "\n",
       "    .dataframe thead th {\n",
       "        text-align: right;\n",
       "    }\n",
       "</style>\n",
       "<table border=\"1\" class=\"dataframe\">\n",
       "  <thead>\n",
       "    <tr style=\"text-align: right;\">\n",
       "      <th></th>\n",
       "      <th>DIA_PAGAMENTO</th>\n",
       "      <th>QUANT_CARTOES_ADICIONAIS</th>\n",
       "      <th>TIPO_ENDERECO_POSTAL</th>\n",
       "      <th>ESTADO_CIVIL</th>\n",
       "      <th>QUANT_DEPENDENTES</th>\n",
       "      <th>NIVEL_EDUCACIONAL</th>\n",
       "      <th>NACIONALIDADE</th>\n",
       "      <th>TIPO_RESIDENCIA</th>\n",
       "      <th>MESES_RESIDENCIA</th>\n",
       "      <th>FLAG_EMAIL</th>\n",
       "      <th>...</th>\n",
       "      <th>TIPO_OCUPACAO</th>\n",
       "      <th>CODIGO_PROFISSAO_CONJUGE</th>\n",
       "      <th>NIVEL_EDUCACIONAL_CONJUGE</th>\n",
       "      <th>FLAG_DOCUMENTO_RESIDENCIAL</th>\n",
       "      <th>FLAG_RG</th>\n",
       "      <th>FLAG_CPF</th>\n",
       "      <th>FLAG_COMPROVANTE_RENDA</th>\n",
       "      <th>PRODUTO</th>\n",
       "      <th>IDADE</th>\n",
       "      <th>ROTULO_ALVO_MAU_1</th>\n",
       "    </tr>\n",
       "  </thead>\n",
       "  <tbody>\n",
       "    <tr>\n",
       "      <th>count</th>\n",
       "      <td>50000.000000</td>\n",
       "      <td>50000.0</td>\n",
       "      <td>50000.000000</td>\n",
       "      <td>50000.00000</td>\n",
       "      <td>50000.000000</td>\n",
       "      <td>50000.0</td>\n",
       "      <td>50000.000000</td>\n",
       "      <td>48651.000000</td>\n",
       "      <td>46223.000000</td>\n",
       "      <td>50000.000000</td>\n",
       "      <td>...</td>\n",
       "      <td>42687.000000</td>\n",
       "      <td>21116.000000</td>\n",
       "      <td>17662.000000</td>\n",
       "      <td>50000.0</td>\n",
       "      <td>50000.0</td>\n",
       "      <td>50000.0</td>\n",
       "      <td>50000.0</td>\n",
       "      <td>50000.000000</td>\n",
       "      <td>50000.00000</td>\n",
       "      <td>50000.000000</td>\n",
       "    </tr>\n",
       "    <tr>\n",
       "      <th>mean</th>\n",
       "      <td>12.869920</td>\n",
       "      <td>0.0</td>\n",
       "      <td>1.006540</td>\n",
       "      <td>2.14840</td>\n",
       "      <td>0.650520</td>\n",
       "      <td>0.0</td>\n",
       "      <td>0.961600</td>\n",
       "      <td>1.252225</td>\n",
       "      <td>9.727149</td>\n",
       "      <td>0.802280</td>\n",
       "      <td>...</td>\n",
       "      <td>2.484316</td>\n",
       "      <td>3.797926</td>\n",
       "      <td>0.296003</td>\n",
       "      <td>0.0</td>\n",
       "      <td>0.0</td>\n",
       "      <td>0.0</td>\n",
       "      <td>0.0</td>\n",
       "      <td>1.275700</td>\n",
       "      <td>43.24852</td>\n",
       "      <td>0.260820</td>\n",
       "    </tr>\n",
       "    <tr>\n",
       "      <th>std</th>\n",
       "      <td>6.608385</td>\n",
       "      <td>0.0</td>\n",
       "      <td>0.080606</td>\n",
       "      <td>1.32285</td>\n",
       "      <td>1.193655</td>\n",
       "      <td>0.0</td>\n",
       "      <td>0.202105</td>\n",
       "      <td>0.867833</td>\n",
       "      <td>10.668841</td>\n",
       "      <td>0.398284</td>\n",
       "      <td>...</td>\n",
       "      <td>1.532261</td>\n",
       "      <td>5.212168</td>\n",
       "      <td>0.955688</td>\n",
       "      <td>0.0</td>\n",
       "      <td>0.0</td>\n",
       "      <td>0.0</td>\n",
       "      <td>0.0</td>\n",
       "      <td>0.988286</td>\n",
       "      <td>14.98905</td>\n",
       "      <td>0.439086</td>\n",
       "    </tr>\n",
       "    <tr>\n",
       "      <th>min</th>\n",
       "      <td>1.000000</td>\n",
       "      <td>0.0</td>\n",
       "      <td>1.000000</td>\n",
       "      <td>0.00000</td>\n",
       "      <td>0.000000</td>\n",
       "      <td>0.0</td>\n",
       "      <td>0.000000</td>\n",
       "      <td>0.000000</td>\n",
       "      <td>0.000000</td>\n",
       "      <td>0.000000</td>\n",
       "      <td>...</td>\n",
       "      <td>0.000000</td>\n",
       "      <td>0.000000</td>\n",
       "      <td>0.000000</td>\n",
       "      <td>0.0</td>\n",
       "      <td>0.0</td>\n",
       "      <td>0.0</td>\n",
       "      <td>0.0</td>\n",
       "      <td>1.000000</td>\n",
       "      <td>6.00000</td>\n",
       "      <td>0.000000</td>\n",
       "    </tr>\n",
       "    <tr>\n",
       "      <th>25%</th>\n",
       "      <td>10.000000</td>\n",
       "      <td>0.0</td>\n",
       "      <td>1.000000</td>\n",
       "      <td>1.00000</td>\n",
       "      <td>0.000000</td>\n",
       "      <td>0.0</td>\n",
       "      <td>1.000000</td>\n",
       "      <td>1.000000</td>\n",
       "      <td>1.000000</td>\n",
       "      <td>1.000000</td>\n",
       "      <td>...</td>\n",
       "      <td>1.000000</td>\n",
       "      <td>0.000000</td>\n",
       "      <td>0.000000</td>\n",
       "      <td>0.0</td>\n",
       "      <td>0.0</td>\n",
       "      <td>0.0</td>\n",
       "      <td>0.0</td>\n",
       "      <td>1.000000</td>\n",
       "      <td>31.00000</td>\n",
       "      <td>0.000000</td>\n",
       "    </tr>\n",
       "    <tr>\n",
       "      <th>50%</th>\n",
       "      <td>10.000000</td>\n",
       "      <td>0.0</td>\n",
       "      <td>1.000000</td>\n",
       "      <td>2.00000</td>\n",
       "      <td>0.000000</td>\n",
       "      <td>0.0</td>\n",
       "      <td>1.000000</td>\n",
       "      <td>1.000000</td>\n",
       "      <td>6.000000</td>\n",
       "      <td>1.000000</td>\n",
       "      <td>...</td>\n",
       "      <td>2.000000</td>\n",
       "      <td>0.000000</td>\n",
       "      <td>0.000000</td>\n",
       "      <td>0.0</td>\n",
       "      <td>0.0</td>\n",
       "      <td>0.0</td>\n",
       "      <td>0.0</td>\n",
       "      <td>1.000000</td>\n",
       "      <td>41.00000</td>\n",
       "      <td>0.000000</td>\n",
       "    </tr>\n",
       "    <tr>\n",
       "      <th>75%</th>\n",
       "      <td>15.000000</td>\n",
       "      <td>0.0</td>\n",
       "      <td>1.000000</td>\n",
       "      <td>2.00000</td>\n",
       "      <td>1.000000</td>\n",
       "      <td>0.0</td>\n",
       "      <td>1.000000</td>\n",
       "      <td>1.000000</td>\n",
       "      <td>15.000000</td>\n",
       "      <td>1.000000</td>\n",
       "      <td>...</td>\n",
       "      <td>4.000000</td>\n",
       "      <td>11.000000</td>\n",
       "      <td>0.000000</td>\n",
       "      <td>0.0</td>\n",
       "      <td>0.0</td>\n",
       "      <td>0.0</td>\n",
       "      <td>0.0</td>\n",
       "      <td>1.000000</td>\n",
       "      <td>53.00000</td>\n",
       "      <td>1.000000</td>\n",
       "    </tr>\n",
       "    <tr>\n",
       "      <th>max</th>\n",
       "      <td>25.000000</td>\n",
       "      <td>0.0</td>\n",
       "      <td>2.000000</td>\n",
       "      <td>7.00000</td>\n",
       "      <td>53.000000</td>\n",
       "      <td>0.0</td>\n",
       "      <td>2.000000</td>\n",
       "      <td>5.000000</td>\n",
       "      <td>228.000000</td>\n",
       "      <td>1.000000</td>\n",
       "      <td>...</td>\n",
       "      <td>5.000000</td>\n",
       "      <td>17.000000</td>\n",
       "      <td>5.000000</td>\n",
       "      <td>0.0</td>\n",
       "      <td>0.0</td>\n",
       "      <td>0.0</td>\n",
       "      <td>0.0</td>\n",
       "      <td>7.000000</td>\n",
       "      <td>106.00000</td>\n",
       "      <td>1.000000</td>\n",
       "    </tr>\n",
       "  </tbody>\n",
       "</table>\n",
       "<p>8 rows × 33 columns</p>\n",
       "</div>"
      ],
      "text/plain": [
       "       DIA_PAGAMENTO  QUANT_CARTOES_ADICIONAIS  TIPO_ENDERECO_POSTAL  \\\n",
       "count   50000.000000                   50000.0          50000.000000   \n",
       "mean       12.869920                       0.0              1.006540   \n",
       "std         6.608385                       0.0              0.080606   \n",
       "min         1.000000                       0.0              1.000000   \n",
       "25%        10.000000                       0.0              1.000000   \n",
       "50%        10.000000                       0.0              1.000000   \n",
       "75%        15.000000                       0.0              1.000000   \n",
       "max        25.000000                       0.0              2.000000   \n",
       "\n",
       "       ESTADO_CIVIL  QUANT_DEPENDENTES  NIVEL_EDUCACIONAL  NACIONALIDADE  \\\n",
       "count   50000.00000       50000.000000            50000.0   50000.000000   \n",
       "mean        2.14840           0.650520                0.0       0.961600   \n",
       "std         1.32285           1.193655                0.0       0.202105   \n",
       "min         0.00000           0.000000                0.0       0.000000   \n",
       "25%         1.00000           0.000000                0.0       1.000000   \n",
       "50%         2.00000           0.000000                0.0       1.000000   \n",
       "75%         2.00000           1.000000                0.0       1.000000   \n",
       "max         7.00000          53.000000                0.0       2.000000   \n",
       "\n",
       "       TIPO_RESIDENCIA  MESES_RESIDENCIA    FLAG_EMAIL  ...  TIPO_OCUPACAO  \\\n",
       "count     48651.000000      46223.000000  50000.000000  ...   42687.000000   \n",
       "mean          1.252225          9.727149      0.802280  ...       2.484316   \n",
       "std           0.867833         10.668841      0.398284  ...       1.532261   \n",
       "min           0.000000          0.000000      0.000000  ...       0.000000   \n",
       "25%           1.000000          1.000000      1.000000  ...       1.000000   \n",
       "50%           1.000000          6.000000      1.000000  ...       2.000000   \n",
       "75%           1.000000         15.000000      1.000000  ...       4.000000   \n",
       "max           5.000000        228.000000      1.000000  ...       5.000000   \n",
       "\n",
       "       CODIGO_PROFISSAO_CONJUGE  NIVEL_EDUCACIONAL_CONJUGE  \\\n",
       "count              21116.000000               17662.000000   \n",
       "mean                   3.797926                   0.296003   \n",
       "std                    5.212168                   0.955688   \n",
       "min                    0.000000                   0.000000   \n",
       "25%                    0.000000                   0.000000   \n",
       "50%                    0.000000                   0.000000   \n",
       "75%                   11.000000                   0.000000   \n",
       "max                   17.000000                   5.000000   \n",
       "\n",
       "       FLAG_DOCUMENTO_RESIDENCIAL  FLAG_RG  FLAG_CPF  FLAG_COMPROVANTE_RENDA  \\\n",
       "count                     50000.0  50000.0   50000.0                 50000.0   \n",
       "mean                          0.0      0.0       0.0                     0.0   \n",
       "std                           0.0      0.0       0.0                     0.0   \n",
       "min                           0.0      0.0       0.0                     0.0   \n",
       "25%                           0.0      0.0       0.0                     0.0   \n",
       "50%                           0.0      0.0       0.0                     0.0   \n",
       "75%                           0.0      0.0       0.0                     0.0   \n",
       "max                           0.0      0.0       0.0                     0.0   \n",
       "\n",
       "            PRODUTO        IDADE  ROTULO_ALVO_MAU_1  \n",
       "count  50000.000000  50000.00000       50000.000000  \n",
       "mean       1.275700     43.24852           0.260820  \n",
       "std        0.988286     14.98905           0.439086  \n",
       "min        1.000000      6.00000           0.000000  \n",
       "25%        1.000000     31.00000           0.000000  \n",
       "50%        1.000000     41.00000           0.000000  \n",
       "75%        1.000000     53.00000           1.000000  \n",
       "max        7.000000    106.00000           1.000000  \n",
       "\n",
       "[8 rows x 33 columns]"
      ]
     },
     "execution_count": 9,
     "metadata": {},
     "output_type": "execute_result"
    }
   ],
   "source": [
    "df.describe()"
   ]
  },
  {
   "cell_type": "code",
   "execution_count": 10,
   "metadata": {},
   "outputs": [
    {
     "data": {
      "text/plain": [
       "Index(['TIPO_FUNCIONARIO', 'DIA_PAGAMENTO', 'TIPO_ENVIO_APLICACAO',\n",
       "       'QUANT_CARTOES_ADICIONAIS', 'TIPO_ENDERECO_POSTAL', 'SEXO',\n",
       "       'ESTADO_CIVIL', 'QUANT_DEPENDENTES', 'NIVEL_EDUCACIONAL',\n",
       "       'ESTADO_NASCIMENTO', 'CIDADE_NASCIMENTO', 'NACIONALIDADE',\n",
       "       'ESTADO_RESIDENCIAL', 'CIDADE_RESIDENCIAL', 'BAIRRO_RESIDENCIAL',\n",
       "       'FLAG_TELEFONE_RESIDENCIAL', 'CODIGO_AREA_TELEFONE_RESIDENCIAL',\n",
       "       'TIPO_RESIDENCIA', 'MESES_RESIDENCIA', 'FLAG_TELEFONE_MOVEL',\n",
       "       'FLAG_EMAIL', 'RENDA_PESSOAL_MENSAL', 'OUTRAS_RENDAS', 'FLAG_VISA',\n",
       "       'FLAG_MASTERCARD', 'FLAG_DINERS', 'FLAG_AMERICAN_EXPRESS',\n",
       "       'FLAG_OUTROS_CARTOES', 'QUANT_CONTAS_BANCARIAS',\n",
       "       'QUANT_CONTAS_BANCARIAS_ESPECIAIS', 'VALOR_PATRIMONIO_PESSOAL',\n",
       "       'QUANT_CARROS', 'EMPRESA', 'ESTADO_PROFISSIONAL', 'CIDADE_PROFISSIONAL',\n",
       "       'BAIRRO_PROFISSIONAL', 'FLAG_TELEFONE_PROFISSIONAL',\n",
       "       'CODIGO_AREA_TELEFONE_PROFISSIONAL', 'MESES_NO_TRABALHO',\n",
       "       'CODIGO_PROFISSAO', 'TIPO_OCUPACAO', 'CODIGO_PROFISSAO_CONJUGE',\n",
       "       'NIVEL_EDUCACIONAL_CONJUGE', 'FLAG_DOCUMENTO_RESIDENCIAL', 'FLAG_RG',\n",
       "       'FLAG_CPF', 'FLAG_COMPROVANTE_RENDA', 'PRODUTO', 'FLAG_REGISTRO_ACSP',\n",
       "       'IDADE', 'CEP_RESIDENCIAL_3', 'CEP_PROFISSIONAL_3',\n",
       "       'ROTULO_ALVO_MAU_1'],\n",
       "      dtype='object')"
      ]
     },
     "execution_count": 10,
     "metadata": {},
     "output_type": "execute_result"
    }
   ],
   "source": [
    "df.columns"
   ]
  },
  {
   "cell_type": "markdown",
   "metadata": {},
   "source": [
    "Verificando colunas que possuem valores nulos"
   ]
  },
  {
   "cell_type": "code",
   "execution_count": 11,
   "metadata": {},
   "outputs": [
    {
     "name": "stdout",
     "output_type": "stream",
     "text": [
      "TIPO_RESIDENCIA - 1349 valores nulos\n",
      "MESES_RESIDENCIA - 3777 valores nulos\n",
      "CIDADE_PROFISSIONAL - 33783 valores nulos\n",
      "BAIRRO_PROFISSIONAL - 33783 valores nulos\n",
      "CODIGO_PROFISSAO - 7756 valores nulos\n",
      "TIPO_OCUPACAO - 7313 valores nulos\n",
      "CODIGO_PROFISSAO_CONJUGE - 28884 valores nulos\n",
      "NIVEL_EDUCACIONAL_CONJUGE - 32338 valores nulos\n"
     ]
    }
   ],
   "source": [
    "for coluna in df.columns:\n",
    "    nulos = df[coluna].isnull().sum()\n",
    "    if nulos > 0:\n",
    "        print(f\"{coluna} - {nulos} valores nulos\")"
   ]
  },
  {
   "cell_type": "markdown",
   "metadata": {},
   "source": [
    "Verificando colunas que possuem um unico valore em todas as linhas"
   ]
  },
  {
   "cell_type": "code",
   "execution_count": 12,
   "metadata": {},
   "outputs": [
    {
     "name": "stdout",
     "output_type": "stream",
     "text": [
      "TIPO_FUNCIONARIO\n",
      "QUANT_CARTOES_ADICIONAIS\n",
      "NIVEL_EDUCACIONAL\n",
      "FLAG_TELEFONE_MOVEL\n",
      "FLAG_DOCUMENTO_RESIDENCIAL\n",
      "FLAG_RG\n",
      "FLAG_CPF\n",
      "FLAG_COMPROVANTE_RENDA\n",
      "FLAG_REGISTRO_ACSP\n"
     ]
    }
   ],
   "source": [
    "colunas_valor_unico = []\n",
    "for coluna in df.columns:\n",
    "    if df[coluna].nunique() == 1:\n",
    "        colunas_valor_unico.append(coluna)\n",
    "        print(coluna)\n",
    "\n",
    "# Fazer o drop dessas colunas pois não influencia no modelo\n",
    "for coluna in colunas_valor_unico:\n",
    "    df.drop(coluna,axis=1,inplace=True)"
   ]
  },
  {
   "cell_type": "markdown",
   "metadata": {},
   "source": [
    "# Tratamento das colunas"
   ]
  },
  {
   "cell_type": "markdown",
   "metadata": {},
   "source": [
    "Verificando colunas que possuem apenas 2 possiveis valores para converter para categórica binária (bool)"
   ]
  },
  {
   "cell_type": "code",
   "execution_count": 13,
   "metadata": {},
   "outputs": [
    {
     "name": "stdout",
     "output_type": "stream",
     "text": [
      "TIPO_ENDERECO_POSTAL\n",
      "FLAG_TELEFONE_RESIDENCIAL\n",
      "FLAG_EMAIL\n",
      "FLAG_VISA\n",
      "FLAG_MASTERCARD\n",
      "FLAG_DINERS\n",
      "FLAG_AMERICAN_EXPRESS\n",
      "FLAG_OUTROS_CARTOES\n",
      "QUANT_CARROS\n",
      "EMPRESA\n",
      "FLAG_TELEFONE_PROFISSIONAL\n",
      "ROTULO_ALVO_MAU_1\n"
     ]
    }
   ],
   "source": [
    "colunas_para_bool = []\n",
    "for coluna in df.columns:\n",
    "    if df[coluna].nunique() == 2:\n",
    "        print(coluna)\n",
    "        colunas_para_bool.append(coluna)"
   ]
  },
  {
   "cell_type": "code",
   "execution_count": 14,
   "metadata": {},
   "outputs": [],
   "source": [
    "colunas_para_bool.remove(\"ROTULO_ALVO_MAU_1\")\n",
    "converter_para_bool(df, colunas_para_bool)"
   ]
  },
  {
   "cell_type": "markdown",
   "metadata": {},
   "source": [
    "## DIA_PAGAMENTO"
   ]
  },
  {
   "cell_type": "code",
   "execution_count": 15,
   "metadata": {},
   "outputs": [
    {
     "data": {
      "text/plain": [
       "array([ 1,  5, 10, 15, 20, 25], dtype=int64)"
      ]
     },
     "execution_count": 15,
     "metadata": {},
     "output_type": "execute_result"
    }
   ],
   "source": [
    "np.sort(df.DIA_PAGAMENTO.unique())"
   ]
  },
  {
   "cell_type": "code",
   "execution_count": 16,
   "metadata": {},
   "outputs": [
    {
     "data": {
      "text/plain": [
       "DIA_PAGAMENTO\n",
       "10    20422\n",
       "15     8750\n",
       "5      7347\n",
       "25     7026\n",
       "20     4694\n",
       "1      1761\n",
       "Name: count, dtype: int64"
      ]
     },
     "execution_count": 16,
     "metadata": {},
     "output_type": "execute_result"
    }
   ],
   "source": [
    "df.DIA_PAGAMENTO.value_counts()\n"
   ]
  },
  {
   "cell_type": "code",
   "execution_count": 17,
   "metadata": {},
   "outputs": [],
   "source": [
    "aplicar_RL['DIA_PAGAMENTO'] = 0.1\n",
    "aplicar_OHE.append('DIA_PAGAMENTO')"
   ]
  },
  {
   "cell_type": "markdown",
   "metadata": {},
   "source": [
    "## TIPO_ENVIO_APLICACAO"
   ]
  },
  {
   "cell_type": "code",
   "execution_count": 18,
   "metadata": {},
   "outputs": [
    {
     "data": {
      "text/plain": [
       "array(['Web', 'Carga', '0'], dtype=object)"
      ]
     },
     "execution_count": 18,
     "metadata": {},
     "output_type": "execute_result"
    }
   ],
   "source": [
    "df.TIPO_ENVIO_APLICACAO.unique()"
   ]
  },
  {
   "cell_type": "code",
   "execution_count": 19,
   "metadata": {},
   "outputs": [
    {
     "data": {
      "text/plain": [
       "TIPO_ENVIO_APLICACAO\n",
       "Web      28206\n",
       "0        19461\n",
       "Carga     2333\n",
       "Name: count, dtype: int64"
      ]
     },
     "execution_count": 19,
     "metadata": {},
     "output_type": "execute_result"
    }
   ],
   "source": [
    "df.TIPO_ENVIO_APLICACAO.value_counts()"
   ]
  },
  {
   "cell_type": "code",
   "execution_count": 20,
   "metadata": {},
   "outputs": [],
   "source": [
    "# Substituindo o valor \"0\" por \"Não Informado\"\n",
    "df['TIPO_ENVIO_APLICACAO'].replace(0, 'Não Informado', inplace=True)"
   ]
  },
  {
   "cell_type": "code",
   "execution_count": 21,
   "metadata": {},
   "outputs": [],
   "source": [
    "aplicar_OHE.append(\"TIPO_ENVIO_APLICACAO\")"
   ]
  },
  {
   "cell_type": "markdown",
   "metadata": {},
   "source": [
    "## SEXO"
   ]
  },
  {
   "cell_type": "code",
   "execution_count": 22,
   "metadata": {},
   "outputs": [
    {
     "data": {
      "text/plain": [
       "SEXO\n",
       "F    30805\n",
       "M    19130\n",
       "N       48\n",
       "        17\n",
       "Name: count, dtype: int64"
      ]
     },
     "execution_count": 22,
     "metadata": {},
     "output_type": "execute_result"
    }
   ],
   "source": [
    "df.SEXO.value_counts()"
   ]
  },
  {
   "cell_type": "code",
   "execution_count": 23,
   "metadata": {},
   "outputs": [],
   "source": [
    "# Entendendo que o valor \"N\" significa nulo ou não informado \n",
    "df['SEXO'].replace(\" \", 'N', inplace=True)"
   ]
  },
  {
   "cell_type": "code",
   "execution_count": 24,
   "metadata": {},
   "outputs": [],
   "source": [
    "aplicar_OHE.append(\"SEXO\")"
   ]
  },
  {
   "cell_type": "markdown",
   "metadata": {},
   "source": [
    "## ESTADO_CIVIL"
   ]
  },
  {
   "cell_type": "code",
   "execution_count": 25,
   "metadata": {},
   "outputs": [
    {
     "data": {
      "text/plain": [
       "ESTADO_CIVIL\n",
       "2    25967\n",
       "1    15286\n",
       "4     4206\n",
       "6     1877\n",
       "5     1296\n",
       "3      632\n",
       "7      534\n",
       "0      202\n",
       "Name: count, dtype: int64"
      ]
     },
     "execution_count": 25,
     "metadata": {},
     "output_type": "execute_result"
    }
   ],
   "source": [
    "df.ESTADO_CIVIL.value_counts()"
   ]
  },
  {
   "cell_type": "code",
   "execution_count": 26,
   "metadata": {},
   "outputs": [],
   "source": [
    "aplicar_RL[\"ESTADO_CIVIL\"] = 0.03\n",
    "aplicar_OHE.append(\"ESTADO_CIVIL\")"
   ]
  },
  {
   "cell_type": "markdown",
   "metadata": {},
   "source": [
    "## QUANT_DEPENDENTES"
   ]
  },
  {
   "cell_type": "code",
   "execution_count": 27,
   "metadata": {},
   "outputs": [
    {
     "data": {
      "text/plain": [
       "QUANT_DEPENDENTES\n",
       "0     33655\n",
       "1      7004\n",
       "2      5363\n",
       "3      2465\n",
       "4       860\n",
       "5       365\n",
       "6       139\n",
       "7        65\n",
       "8        35\n",
       "9        14\n",
       "10       13\n",
       "11        7\n",
       "12        6\n",
       "13        4\n",
       "14        3\n",
       "15        1\n",
       "53        1\n",
       "Name: count, dtype: int64"
      ]
     },
     "execution_count": 27,
     "metadata": {},
     "output_type": "execute_result"
    }
   ],
   "source": [
    "df.QUANT_DEPENDENTES.value_counts()"
   ]
  },
  {
   "cell_type": "code",
   "execution_count": 28,
   "metadata": {},
   "outputs": [],
   "source": [
    "# Como possui uma distribuição muito assimétrica, onde a maioria dos valores está concentrada em \"0\", \"1\", \"2\", e \"3\", optamos por agrupar os valores em faixas para depois aplicar o OHE\n",
    "bins = [0, 1, 2, 5, 10, 50, float('inf')]  # Ajuste os limites conforme necessário\n",
    "labels = ['0', '1-2', '3-5', '6-10', '11-50', 'Mais de 50']\n",
    "df['QUANT_DEPENDENTES'] = pd.cut(df['QUANT_DEPENDENTES'], bins=bins, labels=labels)\n",
    "\n",
    "aplicar_OHE.append('QUANT_DEPENDENTES')"
   ]
  },
  {
   "cell_type": "code",
   "execution_count": 29,
   "metadata": {},
   "outputs": [
    {
     "data": {
      "text/plain": [
       "QUANT_DEPENDENTES\n",
       "0             7004\n",
       "1-2           5363\n",
       "3-5           3690\n",
       "6-10           266\n",
       "11-50           21\n",
       "Mais de 50       1\n",
       "Name: count, dtype: int64"
      ]
     },
     "execution_count": 29,
     "metadata": {},
     "output_type": "execute_result"
    }
   ],
   "source": [
    "df.QUANT_DEPENDENTES.value_counts()"
   ]
  },
  {
   "cell_type": "markdown",
   "metadata": {},
   "source": [
    "## ESTADO_NASCIMENTO"
   ]
  },
  {
   "cell_type": "code",
   "execution_count": 30,
   "metadata": {},
   "outputs": [
    {
     "data": {
      "text/plain": [
       "array([' ', 'AC', 'AL', 'AM', 'AP', 'BA', 'CE', 'DF', 'ES', 'GO', 'MA',\n",
       "       'MG', 'MS', 'MT', 'PA', 'PB', 'PE', 'PI', 'PR', 'RJ', 'RN', 'RO',\n",
       "       'RR', 'RS', 'SC', 'SE', 'SP', 'TO', 'XX'], dtype=object)"
      ]
     },
     "execution_count": 30,
     "metadata": {},
     "output_type": "execute_result"
    }
   ],
   "source": [
    "np.sort(df.ESTADO_NASCIMENTO.unique())"
   ]
  },
  {
   "cell_type": "code",
   "execution_count": 31,
   "metadata": {},
   "outputs": [],
   "source": [
    "# Substituindo os valores \"XX\" e \" \" por \"Não informado\"\n",
    "df['ESTADO_NASCIMENTO'] = df['ESTADO_NASCIMENTO'].replace({'XX': 'Não Informado', ' ': 'Não Informado'})\n"
   ]
  },
  {
   "cell_type": "code",
   "execution_count": 32,
   "metadata": {},
   "outputs": [],
   "source": [
    "aplicar_RL[\"ESTADO_NASCIMENTO\"] = 0.07\n",
    "aplicar_CF.append(\"ESTADO_NASCIMENTO\")"
   ]
  },
  {
   "cell_type": "markdown",
   "metadata": {},
   "source": [
    "## CIDADE_NASCIMENTO"
   ]
  },
  {
   "cell_type": "code",
   "execution_count": 33,
   "metadata": {},
   "outputs": [
    {
     "data": {
      "text/plain": [
       "CIDADE_NASCIMENTO\n",
       "                      2064\n",
       "RIO DE JANEIRO        1184\n",
       "RECIFE                 781\n",
       "SAO PAULO              781\n",
       "FORTALEZA              765\n",
       "                      ... \n",
       "urania                   1\n",
       "ESP STO TURVO            1\n",
       "Varzea de Palma          1\n",
       "STA IZABEL DO PARA       1\n",
       "PIQUET CARNEIRO CE       1\n",
       "Name: count, Length: 9910, dtype: int64"
      ]
     },
     "execution_count": 33,
     "metadata": {},
     "output_type": "execute_result"
    }
   ],
   "source": [
    "df.CIDADE_NASCIMENTO.value_counts()"
   ]
  },
  {
   "cell_type": "code",
   "execution_count": 34,
   "metadata": {},
   "outputs": [],
   "source": [
    "df.CIDADE_NASCIMENTO = df.CIDADE_NASCIMENTO.str.lower().str.strip().apply(limpar_texto)"
   ]
  },
  {
   "cell_type": "code",
   "execution_count": 35,
   "metadata": {},
   "outputs": [
    {
     "data": {
      "text/plain": [
       "CIDADE_NASCIMENTO\n",
       "rio de janeiro         1470\n",
       "recife                  980\n",
       "sao paulo               961\n",
       "fortaleza               948\n",
       "pelotas                 815\n",
       "                       ... \n",
       "poco dos trinheiros       1\n",
       "quixda                    1\n",
       "divina pastora            1\n",
       "cidade gaucha             1\n",
       "piquet carneiro ce        1\n",
       "Name: count, Length: 7168, dtype: int64"
      ]
     },
     "execution_count": 35,
     "metadata": {},
     "output_type": "execute_result"
    }
   ],
   "source": [
    "df.CIDADE_NASCIMENTO.value_counts()"
   ]
  },
  {
   "cell_type": "code",
   "execution_count": 36,
   "metadata": {},
   "outputs": [
    {
     "data": {
      "text/plain": [
       "0.06588"
      ]
     },
     "execution_count": 36,
     "metadata": {},
     "output_type": "execute_result"
    }
   ],
   "source": [
    "df.CIDADE_NASCIMENTO.isna().sum()/df.shape[0]"
   ]
  },
  {
   "cell_type": "code",
   "execution_count": 37,
   "metadata": {},
   "outputs": [],
   "source": [
    "#Não tem como preencher NaN, então preferimos dropar a coluna do que perder 6% dos dados dropando as linhas com NaN\n",
    "df.drop(\"CIDADE_NASCIMENTO\", axis=1, inplace=True)"
   ]
  },
  {
   "cell_type": "markdown",
   "metadata": {},
   "source": [
    "## NACIONALIDADE"
   ]
  },
  {
   "cell_type": "code",
   "execution_count": 38,
   "metadata": {},
   "outputs": [
    {
     "data": {
      "text/plain": [
       "NACIONALIDADE\n",
       "1    47884\n",
       "0     2018\n",
       "2       98\n",
       "Name: count, dtype: int64"
      ]
     },
     "execution_count": 38,
     "metadata": {},
     "output_type": "execute_result"
    }
   ],
   "source": [
    "df.NACIONALIDADE.value_counts()"
   ]
  },
  {
   "cell_type": "code",
   "execution_count": 39,
   "metadata": {},
   "outputs": [
    {
     "data": {
      "text/html": [
       "<div>\n",
       "<style scoped>\n",
       "    .dataframe tbody tr th:only-of-type {\n",
       "        vertical-align: middle;\n",
       "    }\n",
       "\n",
       "    .dataframe tbody tr th {\n",
       "        vertical-align: top;\n",
       "    }\n",
       "\n",
       "    .dataframe thead th {\n",
       "        text-align: right;\n",
       "    }\n",
       "</style>\n",
       "<table border=\"1\" class=\"dataframe\">\n",
       "  <thead>\n",
       "    <tr style=\"text-align: right;\">\n",
       "      <th></th>\n",
       "      <th>DIA_PAGAMENTO</th>\n",
       "      <th>TIPO_ENVIO_APLICACAO</th>\n",
       "      <th>TIPO_ENDERECO_POSTAL</th>\n",
       "      <th>SEXO</th>\n",
       "      <th>ESTADO_CIVIL</th>\n",
       "      <th>QUANT_DEPENDENTES</th>\n",
       "      <th>ESTADO_NASCIMENTO</th>\n",
       "      <th>NACIONALIDADE</th>\n",
       "      <th>ESTADO_RESIDENCIAL</th>\n",
       "      <th>CIDADE_RESIDENCIAL</th>\n",
       "      <th>...</th>\n",
       "      <th>MESES_NO_TRABALHO</th>\n",
       "      <th>CODIGO_PROFISSAO</th>\n",
       "      <th>TIPO_OCUPACAO</th>\n",
       "      <th>CODIGO_PROFISSAO_CONJUGE</th>\n",
       "      <th>NIVEL_EDUCACIONAL_CONJUGE</th>\n",
       "      <th>PRODUTO</th>\n",
       "      <th>IDADE</th>\n",
       "      <th>CEP_RESIDENCIAL_3</th>\n",
       "      <th>CEP_PROFISSIONAL_3</th>\n",
       "      <th>ROTULO_ALVO_MAU_1</th>\n",
       "    </tr>\n",
       "    <tr>\n",
       "      <th>ID_CLIENTE</th>\n",
       "      <th></th>\n",
       "      <th></th>\n",
       "      <th></th>\n",
       "      <th></th>\n",
       "      <th></th>\n",
       "      <th></th>\n",
       "      <th></th>\n",
       "      <th></th>\n",
       "      <th></th>\n",
       "      <th></th>\n",
       "      <th></th>\n",
       "      <th></th>\n",
       "      <th></th>\n",
       "      <th></th>\n",
       "      <th></th>\n",
       "      <th></th>\n",
       "      <th></th>\n",
       "      <th></th>\n",
       "      <th></th>\n",
       "      <th></th>\n",
       "      <th></th>\n",
       "    </tr>\n",
       "  </thead>\n",
       "  <tbody>\n",
       "    <tr>\n",
       "      <th>30</th>\n",
       "      <td>15</td>\n",
       "      <td>0</td>\n",
       "      <td>False</td>\n",
       "      <td>M</td>\n",
       "      <td>2</td>\n",
       "      <td>NaN</td>\n",
       "      <td>Não Informado</td>\n",
       "      <td>0</td>\n",
       "      <td>CE</td>\n",
       "      <td>CAUCAIA</td>\n",
       "      <td>...</td>\n",
       "      <td>0</td>\n",
       "      <td>11.0</td>\n",
       "      <td>2.0</td>\n",
       "      <td>11.0</td>\n",
       "      <td>0.0</td>\n",
       "      <td>1</td>\n",
       "      <td>58</td>\n",
       "      <td>616</td>\n",
       "      <td>616</td>\n",
       "      <td>0</td>\n",
       "    </tr>\n",
       "    <tr>\n",
       "      <th>118</th>\n",
       "      <td>5</td>\n",
       "      <td>0</td>\n",
       "      <td>False</td>\n",
       "      <td>F</td>\n",
       "      <td>4</td>\n",
       "      <td>1-2</td>\n",
       "      <td>Não Informado</td>\n",
       "      <td>0</td>\n",
       "      <td>AM</td>\n",
       "      <td>ITACOATIARA</td>\n",
       "      <td>...</td>\n",
       "      <td>0</td>\n",
       "      <td>9.0</td>\n",
       "      <td>1.0</td>\n",
       "      <td>11.0</td>\n",
       "      <td>0.0</td>\n",
       "      <td>1</td>\n",
       "      <td>51</td>\n",
       "      <td>691</td>\n",
       "      <td>691</td>\n",
       "      <td>0</td>\n",
       "    </tr>\n",
       "    <tr>\n",
       "      <th>132</th>\n",
       "      <td>10</td>\n",
       "      <td>0</td>\n",
       "      <td>False</td>\n",
       "      <td>F</td>\n",
       "      <td>1</td>\n",
       "      <td>0</td>\n",
       "      <td>Não Informado</td>\n",
       "      <td>0</td>\n",
       "      <td>MA</td>\n",
       "      <td>CAXIAS</td>\n",
       "      <td>...</td>\n",
       "      <td>0</td>\n",
       "      <td>9.0</td>\n",
       "      <td>1.0</td>\n",
       "      <td>11.0</td>\n",
       "      <td>0.0</td>\n",
       "      <td>1</td>\n",
       "      <td>73</td>\n",
       "      <td>656</td>\n",
       "      <td>656</td>\n",
       "      <td>0</td>\n",
       "    </tr>\n",
       "    <tr>\n",
       "      <th>139</th>\n",
       "      <td>10</td>\n",
       "      <td>0</td>\n",
       "      <td>False</td>\n",
       "      <td>M</td>\n",
       "      <td>2</td>\n",
       "      <td>NaN</td>\n",
       "      <td>Não Informado</td>\n",
       "      <td>0</td>\n",
       "      <td>SP</td>\n",
       "      <td>PEDREIRA</td>\n",
       "      <td>...</td>\n",
       "      <td>0</td>\n",
       "      <td>11.0</td>\n",
       "      <td>5.0</td>\n",
       "      <td>11.0</td>\n",
       "      <td>0.0</td>\n",
       "      <td>2</td>\n",
       "      <td>40</td>\n",
       "      <td>139</td>\n",
       "      <td>139</td>\n",
       "      <td>1</td>\n",
       "    </tr>\n",
       "    <tr>\n",
       "      <th>179</th>\n",
       "      <td>25</td>\n",
       "      <td>0</td>\n",
       "      <td>False</td>\n",
       "      <td>F</td>\n",
       "      <td>2</td>\n",
       "      <td>3-5</td>\n",
       "      <td>Não Informado</td>\n",
       "      <td>0</td>\n",
       "      <td>AL</td>\n",
       "      <td>ARAPIRACA</td>\n",
       "      <td>...</td>\n",
       "      <td>0</td>\n",
       "      <td>11.0</td>\n",
       "      <td>1.0</td>\n",
       "      <td>11.0</td>\n",
       "      <td>0.0</td>\n",
       "      <td>1</td>\n",
       "      <td>60</td>\n",
       "      <td>573</td>\n",
       "      <td>573</td>\n",
       "      <td>0</td>\n",
       "    </tr>\n",
       "    <tr>\n",
       "      <th>...</th>\n",
       "      <td>...</td>\n",
       "      <td>...</td>\n",
       "      <td>...</td>\n",
       "      <td>...</td>\n",
       "      <td>...</td>\n",
       "      <td>...</td>\n",
       "      <td>...</td>\n",
       "      <td>...</td>\n",
       "      <td>...</td>\n",
       "      <td>...</td>\n",
       "      <td>...</td>\n",
       "      <td>...</td>\n",
       "      <td>...</td>\n",
       "      <td>...</td>\n",
       "      <td>...</td>\n",
       "      <td>...</td>\n",
       "      <td>...</td>\n",
       "      <td>...</td>\n",
       "      <td>...</td>\n",
       "      <td>...</td>\n",
       "      <td>...</td>\n",
       "    </tr>\n",
       "    <tr>\n",
       "      <th>49891</th>\n",
       "      <td>10</td>\n",
       "      <td>0</td>\n",
       "      <td>False</td>\n",
       "      <td>F</td>\n",
       "      <td>2</td>\n",
       "      <td>NaN</td>\n",
       "      <td>Não Informado</td>\n",
       "      <td>0</td>\n",
       "      <td>PB</td>\n",
       "      <td>SANTA RITA</td>\n",
       "      <td>...</td>\n",
       "      <td>0</td>\n",
       "      <td>11.0</td>\n",
       "      <td>1.0</td>\n",
       "      <td>11.0</td>\n",
       "      <td>0.0</td>\n",
       "      <td>1</td>\n",
       "      <td>74</td>\n",
       "      <td>583</td>\n",
       "      <td>583</td>\n",
       "      <td>0</td>\n",
       "    </tr>\n",
       "    <tr>\n",
       "      <th>49894</th>\n",
       "      <td>10</td>\n",
       "      <td>0</td>\n",
       "      <td>False</td>\n",
       "      <td>F</td>\n",
       "      <td>1</td>\n",
       "      <td>NaN</td>\n",
       "      <td>Não Informado</td>\n",
       "      <td>0</td>\n",
       "      <td>MG</td>\n",
       "      <td>SANTA LUZIA</td>\n",
       "      <td>...</td>\n",
       "      <td>0</td>\n",
       "      <td>11.0</td>\n",
       "      <td>2.0</td>\n",
       "      <td>11.0</td>\n",
       "      <td>0.0</td>\n",
       "      <td>1</td>\n",
       "      <td>26</td>\n",
       "      <td>331</td>\n",
       "      <td>331</td>\n",
       "      <td>1</td>\n",
       "    </tr>\n",
       "    <tr>\n",
       "      <th>49923</th>\n",
       "      <td>20</td>\n",
       "      <td>0</td>\n",
       "      <td>False</td>\n",
       "      <td>F</td>\n",
       "      <td>2</td>\n",
       "      <td>0</td>\n",
       "      <td>Não Informado</td>\n",
       "      <td>0</td>\n",
       "      <td>SP</td>\n",
       "      <td>GUAREI</td>\n",
       "      <td>...</td>\n",
       "      <td>0</td>\n",
       "      <td>9.0</td>\n",
       "      <td>2.0</td>\n",
       "      <td>11.0</td>\n",
       "      <td>0.0</td>\n",
       "      <td>2</td>\n",
       "      <td>33</td>\n",
       "      <td>182</td>\n",
       "      <td>182</td>\n",
       "      <td>0</td>\n",
       "    </tr>\n",
       "    <tr>\n",
       "      <th>49979</th>\n",
       "      <td>10</td>\n",
       "      <td>0</td>\n",
       "      <td>False</td>\n",
       "      <td>M</td>\n",
       "      <td>0</td>\n",
       "      <td>NaN</td>\n",
       "      <td>Não Informado</td>\n",
       "      <td>0</td>\n",
       "      <td>PE</td>\n",
       "      <td>PETROLINA</td>\n",
       "      <td>...</td>\n",
       "      <td>0</td>\n",
       "      <td>11.0</td>\n",
       "      <td>2.0</td>\n",
       "      <td>11.0</td>\n",
       "      <td>0.0</td>\n",
       "      <td>1</td>\n",
       "      <td>21</td>\n",
       "      <td>563</td>\n",
       "      <td>563</td>\n",
       "      <td>1</td>\n",
       "    </tr>\n",
       "    <tr>\n",
       "      <th>49980</th>\n",
       "      <td>10</td>\n",
       "      <td>0</td>\n",
       "      <td>False</td>\n",
       "      <td>F</td>\n",
       "      <td>1</td>\n",
       "      <td>NaN</td>\n",
       "      <td>Não Informado</td>\n",
       "      <td>0</td>\n",
       "      <td>SP</td>\n",
       "      <td>EMBU</td>\n",
       "      <td>...</td>\n",
       "      <td>0</td>\n",
       "      <td>11.0</td>\n",
       "      <td>2.0</td>\n",
       "      <td>11.0</td>\n",
       "      <td>0.0</td>\n",
       "      <td>1</td>\n",
       "      <td>27</td>\n",
       "      <td>681</td>\n",
       "      <td>681</td>\n",
       "      <td>0</td>\n",
       "    </tr>\n",
       "  </tbody>\n",
       "</table>\n",
       "<p>2116 rows × 43 columns</p>\n",
       "</div>"
      ],
      "text/plain": [
       "            DIA_PAGAMENTO TIPO_ENVIO_APLICACAO  TIPO_ENDERECO_POSTAL SEXO  \\\n",
       "ID_CLIENTE                                                                  \n",
       "30                     15                    0                 False    M   \n",
       "118                     5                    0                 False    F   \n",
       "132                    10                    0                 False    F   \n",
       "139                    10                    0                 False    M   \n",
       "179                    25                    0                 False    F   \n",
       "...                   ...                  ...                   ...  ...   \n",
       "49891                  10                    0                 False    F   \n",
       "49894                  10                    0                 False    F   \n",
       "49923                  20                    0                 False    F   \n",
       "49979                  10                    0                 False    M   \n",
       "49980                  10                    0                 False    F   \n",
       "\n",
       "            ESTADO_CIVIL QUANT_DEPENDENTES ESTADO_NASCIMENTO  NACIONALIDADE  \\\n",
       "ID_CLIENTE                                                                    \n",
       "30                     2               NaN     Não Informado              0   \n",
       "118                    4               1-2     Não Informado              0   \n",
       "132                    1                 0     Não Informado              0   \n",
       "139                    2               NaN     Não Informado              0   \n",
       "179                    2               3-5     Não Informado              0   \n",
       "...                  ...               ...               ...            ...   \n",
       "49891                  2               NaN     Não Informado              0   \n",
       "49894                  1               NaN     Não Informado              0   \n",
       "49923                  2                 0     Não Informado              0   \n",
       "49979                  0               NaN     Não Informado              0   \n",
       "49980                  1               NaN     Não Informado              0   \n",
       "\n",
       "           ESTADO_RESIDENCIAL CIDADE_RESIDENCIAL  ... MESES_NO_TRABALHO  \\\n",
       "ID_CLIENTE                                        ...                     \n",
       "30                         CE            CAUCAIA  ...                 0   \n",
       "118                        AM        ITACOATIARA  ...                 0   \n",
       "132                        MA             CAXIAS  ...                 0   \n",
       "139                        SP           PEDREIRA  ...                 0   \n",
       "179                        AL          ARAPIRACA  ...                 0   \n",
       "...                       ...                ...  ...               ...   \n",
       "49891                      PB         SANTA RITA  ...                 0   \n",
       "49894                      MG        SANTA LUZIA  ...                 0   \n",
       "49923                      SP             GUAREI  ...                 0   \n",
       "49979                      PE          PETROLINA  ...                 0   \n",
       "49980                      SP               EMBU  ...                 0   \n",
       "\n",
       "            CODIGO_PROFISSAO TIPO_OCUPACAO  CODIGO_PROFISSAO_CONJUGE  \\\n",
       "ID_CLIENTE                                                             \n",
       "30                      11.0           2.0                      11.0   \n",
       "118                      9.0           1.0                      11.0   \n",
       "132                      9.0           1.0                      11.0   \n",
       "139                     11.0           5.0                      11.0   \n",
       "179                     11.0           1.0                      11.0   \n",
       "...                      ...           ...                       ...   \n",
       "49891                   11.0           1.0                      11.0   \n",
       "49894                   11.0           2.0                      11.0   \n",
       "49923                    9.0           2.0                      11.0   \n",
       "49979                   11.0           2.0                      11.0   \n",
       "49980                   11.0           2.0                      11.0   \n",
       "\n",
       "            NIVEL_EDUCACIONAL_CONJUGE  PRODUTO  IDADE  CEP_RESIDENCIAL_3  \\\n",
       "ID_CLIENTE                                                                 \n",
       "30                                0.0        1     58                616   \n",
       "118                               0.0        1     51                691   \n",
       "132                               0.0        1     73                656   \n",
       "139                               0.0        2     40                139   \n",
       "179                               0.0        1     60                573   \n",
       "...                               ...      ...    ...                ...   \n",
       "49891                             0.0        1     74                583   \n",
       "49894                             0.0        1     26                331   \n",
       "49923                             0.0        2     33                182   \n",
       "49979                             0.0        1     21                563   \n",
       "49980                             0.0        1     27                681   \n",
       "\n",
       "            CEP_PROFISSIONAL_3  ROTULO_ALVO_MAU_1  \n",
       "ID_CLIENTE                                         \n",
       "30                         616                  0  \n",
       "118                        691                  0  \n",
       "132                        656                  0  \n",
       "139                        139                  1  \n",
       "179                        573                  0  \n",
       "...                        ...                ...  \n",
       "49891                      583                  0  \n",
       "49894                      331                  1  \n",
       "49923                      182                  0  \n",
       "49979                      563                  1  \n",
       "49980                      681                  0  \n",
       "\n",
       "[2116 rows x 43 columns]"
      ]
     },
     "execution_count": 39,
     "metadata": {},
     "output_type": "execute_result"
    }
   ],
   "source": [
    "df.loc[(df.NACIONALIDADE != 1) & (df.ESTADO_NASCIMENTO != pd.NA)]"
   ]
  },
  {
   "cell_type": "code",
   "execution_count": 40,
   "metadata": {},
   "outputs": [],
   "source": [
    "#Os estados de nascimento são do Brasil, mas a Nacionalidade é diferente de 1\n",
    "df.drop(\"NACIONALIDADE\", axis=1, inplace=True)"
   ]
  },
  {
   "cell_type": "markdown",
   "metadata": {},
   "source": [
    "## ESTADO_RESIDENCIAL"
   ]
  },
  {
   "cell_type": "code",
   "execution_count": 41,
   "metadata": {},
   "outputs": [
    {
     "data": {
      "text/plain": [
       "array(['AC', 'AL', 'AM', 'AP', 'BA', 'CE', 'DF', 'ES', 'GO', 'MA', 'MG',\n",
       "       'MS', 'MT', 'PA', 'PB', 'PE', 'PI', 'PR', 'RJ', 'RN', 'RO', 'RR',\n",
       "       'RS', 'SC', 'SE', 'SP', 'TO'], dtype=object)"
      ]
     },
     "execution_count": 41,
     "metadata": {},
     "output_type": "execute_result"
    }
   ],
   "source": [
    "np.sort(df.ESTADO_RESIDENCIAL.unique())"
   ]
  },
  {
   "cell_type": "code",
   "execution_count": 42,
   "metadata": {},
   "outputs": [
    {
     "data": {
      "text/plain": [
       "ESTADO_RESIDENCIAL\n",
       "SP    17.546\n",
       "RS    10.522\n",
       "BA     9.982\n",
       "CE     9.238\n",
       "PE     7.340\n",
       "MG     6.170\n",
       "PA     4.494\n",
       "RJ     4.286\n",
       "RN     4.054\n",
       "GO     3.388\n",
       "PR     3.046\n",
       "AL     2.934\n",
       "PB     2.722\n",
       "MT     2.602\n",
       "MA     1.522\n",
       "DF     1.400\n",
       "MS     1.396\n",
       "ES     1.376\n",
       "SC     1.336\n",
       "AP     0.986\n",
       "AM     0.804\n",
       "PI     0.748\n",
       "RO     0.726\n",
       "SE     0.546\n",
       "AC     0.454\n",
       "TO     0.260\n",
       "RR     0.122\n",
       "Name: proportion, dtype: float64"
      ]
     },
     "execution_count": 42,
     "metadata": {},
     "output_type": "execute_result"
    }
   ],
   "source": [
    "(df['ESTADO_RESIDENCIAL'].value_counts(normalize=True) * 100)"
   ]
  },
  {
   "cell_type": "code",
   "execution_count": 43,
   "metadata": {},
   "outputs": [],
   "source": [
    "aplicar_RL[\"ESTADO_RESIDENCIAL\"] = 0.07\n",
    "aplicar_CF.append(\"ESTADO_RESIDENCIAL\")"
   ]
  },
  {
   "cell_type": "markdown",
   "metadata": {},
   "source": [
    "## CIDADE_RESIDENCIAL"
   ]
  },
  {
   "cell_type": "code",
   "execution_count": 44,
   "metadata": {},
   "outputs": [
    {
     "data": {
      "text/plain": [
       "CIDADE_RESIDENCIAL\n",
       "Sao Paulo               894\n",
       "FORTALEZA               876\n",
       "Fortaleza               714\n",
       "MACEIO                  651\n",
       "PELOTAS                 624\n",
       "                       ... \n",
       "MEDEIROS N ETO            1\n",
       "PARECI NOVO               1\n",
       "CAPIM GROSSO              1\n",
       "pauloa fonso              1\n",
       "conselheiro lafaiete      1\n",
       "Name: count, Length: 3529, dtype: int64"
      ]
     },
     "execution_count": 44,
     "metadata": {},
     "output_type": "execute_result"
    }
   ],
   "source": [
    "df.CIDADE_RESIDENCIAL.value_counts()"
   ]
  },
  {
   "cell_type": "code",
   "execution_count": 45,
   "metadata": {},
   "outputs": [],
   "source": [
    "df.CIDADE_RESIDENCIAL = df.CIDADE_RESIDENCIAL.str.lower().str.strip().apply(limpar_texto)"
   ]
  },
  {
   "cell_type": "code",
   "execution_count": 46,
   "metadata": {},
   "outputs": [
    {
     "data": {
      "text/plain": [
       "CIDADE_RESIDENCIAL\n",
       "fortaleza              1671\n",
       "sao paulo              1434\n",
       "pelotas                1174\n",
       "recife                  919\n",
       "natal                   879\n",
       "                       ... \n",
       "joao manlevade            1\n",
       "jequirica                 1\n",
       "campia grande             1\n",
       "aprecida do taboado       1\n",
       "dias d avila              1\n",
       "Name: count, Length: 2432, dtype: int64"
      ]
     },
     "execution_count": 46,
     "metadata": {},
     "output_type": "execute_result"
    }
   ],
   "source": [
    "df.CIDADE_RESIDENCIAL.value_counts()"
   ]
  },
  {
   "cell_type": "code",
   "execution_count": 47,
   "metadata": {},
   "outputs": [],
   "source": [
    "df.CIDADE_RESIDENCIAL.fillna(\"nao informado\", inplace=True)"
   ]
  },
  {
   "cell_type": "code",
   "execution_count": 48,
   "metadata": {},
   "outputs": [],
   "source": [
    "aplicar_RL['CIDADE_RESIDENCIAL'] = 0.015\n",
    "aplicar_CF.append('CIDADE_RESIDENCIAL')"
   ]
  },
  {
   "cell_type": "markdown",
   "metadata": {},
   "source": [
    "## BAIRRO_RESIDENCIAL"
   ]
  },
  {
   "cell_type": "code",
   "execution_count": 49,
   "metadata": {},
   "outputs": [],
   "source": [
    "df.BAIRRO_RESIDENCIAL = df.BAIRRO_RESIDENCIAL.str.lower().str.strip().apply(limpar_texto)"
   ]
  },
  {
   "cell_type": "code",
   "execution_count": 50,
   "metadata": {},
   "outputs": [
    {
     "data": {
      "text/plain": [
       "BAIRRO_RESIDENCIAL\n",
       "centro              4944\n",
       "zona rural           449\n",
       "fragata              401\n",
       "areal                252\n",
       "santo antonio        250\n",
       "                    ... \n",
       "jd campo nobre         1\n",
       "sonho verde            1\n",
       "camata i               1\n",
       "avenida l garcia       1\n",
       "jardim vida nova       1\n",
       "Name: count, Length: 11576, dtype: int64"
      ]
     },
     "execution_count": 50,
     "metadata": {},
     "output_type": "execute_result"
    }
   ],
   "source": [
    "df.BAIRRO_RESIDENCIAL.value_counts()"
   ]
  },
  {
   "cell_type": "code",
   "execution_count": 51,
   "metadata": {},
   "outputs": [
    {
     "data": {
      "text/plain": [
       "148"
      ]
     },
     "execution_count": 51,
     "metadata": {},
     "output_type": "execute_result"
    }
   ],
   "source": [
    "df.BAIRRO_RESIDENCIAL.isna().sum()"
   ]
  },
  {
   "cell_type": "code",
   "execution_count": 52,
   "metadata": {},
   "outputs": [],
   "source": [
    "df.BAIRRO_RESIDENCIAL.fillna(\"nao informado\", inplace=True)"
   ]
  },
  {
   "cell_type": "code",
   "execution_count": 53,
   "metadata": {},
   "outputs": [],
   "source": [
    "aplicar_RL['BAIRRO_RESIDENCIAL'] = 0.05\n",
    "aplicar_CF.append('BAIRRO_RESIDENCIAL')"
   ]
  },
  {
   "cell_type": "markdown",
   "metadata": {},
   "source": [
    "## CODIGO_AREA_TELEFONE_RESIDENCIAL"
   ]
  },
  {
   "cell_type": "code",
   "execution_count": 54,
   "metadata": {},
   "outputs": [
    {
     "data": {
      "text/plain": [
       "array([' ', '1', '10', '100', '101', '102', '103', '105', '106', '107',\n",
       "       '109', '11', '110', '111', '112', '113', '114', '117', '118',\n",
       "       '119', '12', '120', '121', '122', '123', '124', '125', '126', '13',\n",
       "       '14', '15', '16', '17', '18', '2', '20', '21', '22', '24', '25',\n",
       "       '27', '29', '3', '30', '31', '32', '33', '34', '35', '36', '38',\n",
       "       '39', '40', '41', '43', '44', '45', '46', '47', '48', '49', '5',\n",
       "       '50', '52', '54', '56', '57', '58', '59', '6', '60', '61', '62',\n",
       "       '64', '66', '67', '68', '69', '70', '71', '73', '75', '76', '77',\n",
       "       '79', '8', '80', '81', '82', '83', '84', '85', '86', '89', '9',\n",
       "       '90', '91', '93', '95', '97', '98', '99'], dtype=object)"
      ]
     },
     "execution_count": 54,
     "metadata": {},
     "output_type": "execute_result"
    }
   ],
   "source": [
    "np.sort(df.CODIGO_AREA_TELEFONE_RESIDENCIAL.unique())"
   ]
  },
  {
   "cell_type": "code",
   "execution_count": 55,
   "metadata": {},
   "outputs": [],
   "source": [
    "df.loc[df['CODIGO_AREA_TELEFONE_RESIDENCIAL'] == ' ', 'CODIGO_AREA_TELEFONE_RESIDENCIAL'] = pd.NA"
   ]
  },
  {
   "cell_type": "code",
   "execution_count": 56,
   "metadata": {},
   "outputs": [
    {
     "data": {
      "text/plain": [
       "8212"
      ]
     },
     "execution_count": 56,
     "metadata": {},
     "output_type": "execute_result"
    }
   ],
   "source": [
    "df.CODIGO_AREA_TELEFONE_RESIDENCIAL.isna().sum()"
   ]
  },
  {
   "cell_type": "code",
   "execution_count": 57,
   "metadata": {},
   "outputs": [
    {
     "data": {
      "text/plain": [
       "CODIGO_AREA_TELEFONE_RESIDENCIAL\n",
       "5      4558\n",
       "97     2865\n",
       "107    2830\n",
       "54     2297\n",
       "105    1627\n",
       "       ... \n",
       "82        1\n",
       "35        1\n",
       "79        1\n",
       "121       1\n",
       "36        1\n",
       "Name: count, Length: 101, dtype: int64"
      ]
     },
     "execution_count": 57,
     "metadata": {},
     "output_type": "execute_result"
    }
   ],
   "source": [
    "df.CODIGO_AREA_TELEFONE_RESIDENCIAL.value_counts()"
   ]
  },
  {
   "cell_type": "code",
   "execution_count": 58,
   "metadata": {},
   "outputs": [],
   "source": [
    "# Optamos por excluir a coluna já que a maior ocorrencia é de dados não infomados.\n",
    "df.drop(\"CODIGO_AREA_TELEFONE_RESIDENCIAL\", axis=1, inplace=True)"
   ]
  },
  {
   "cell_type": "markdown",
   "metadata": {},
   "source": [
    "## TIPO_RESIDENCIA"
   ]
  },
  {
   "cell_type": "code",
   "execution_count": 59,
   "metadata": {},
   "outputs": [
    {
     "data": {
      "text/plain": [
       "TIPO_RESIDENCIA\n",
       "1.0    41572\n",
       "2.0     3884\n",
       "5.0     1983\n",
       "0.0      760\n",
       "4.0      311\n",
       "3.0      141\n",
       "Name: count, dtype: int64"
      ]
     },
     "execution_count": 59,
     "metadata": {},
     "output_type": "execute_result"
    }
   ],
   "source": [
    "df.TIPO_RESIDENCIA.value_counts()"
   ]
  },
  {
   "cell_type": "code",
   "execution_count": 60,
   "metadata": {},
   "outputs": [
    {
     "data": {
      "text/plain": [
       "1349"
      ]
     },
     "execution_count": 60,
     "metadata": {},
     "output_type": "execute_result"
    }
   ],
   "source": [
    "df.TIPO_RESIDENCIA.isna().sum()"
   ]
  },
  {
   "cell_type": "code",
   "execution_count": 61,
   "metadata": {},
   "outputs": [],
   "source": [
    "df['TIPO_RESIDENCIA'].fillna('Não Informado', inplace=True)"
   ]
  },
  {
   "cell_type": "code",
   "execution_count": 62,
   "metadata": {},
   "outputs": [],
   "source": [
    "aplicar_RL['TIPO_RESIDENCIA'] = 0.03\n",
    "aplicar_OHE.append('TIPO_RESIDENCIA')"
   ]
  },
  {
   "cell_type": "markdown",
   "metadata": {},
   "source": [
    "## MESES_RESIDENCIA"
   ]
  },
  {
   "cell_type": "code",
   "execution_count": 63,
   "metadata": {},
   "outputs": [
    {
     "data": {
      "text/plain": [
       "array([  0.,   1.,   2.,   3.,   4.,   5.,   6.,   7.,   8.,   9.,  10.,\n",
       "        11.,  12.,  13.,  14.,  15.,  16.,  17.,  18.,  19.,  20.,  21.,\n",
       "        22.,  23.,  24.,  25.,  26.,  27.,  28.,  29.,  30.,  31.,  32.,\n",
       "        33.,  34.,  35.,  36.,  37.,  38.,  39.,  40.,  41.,  42.,  43.,\n",
       "        44.,  45.,  46.,  47.,  48.,  49.,  50.,  51.,  52.,  53.,  54.,\n",
       "        55.,  56.,  57.,  58.,  59.,  60.,  61.,  62.,  63.,  64.,  65.,\n",
       "        66.,  67.,  68.,  69.,  70.,  71.,  72.,  73.,  76.,  78.,  80.,\n",
       "        81.,  82.,  84.,  89.,  90.,  96.,  99., 100., 101., 200., 228.,\n",
       "        nan])"
      ]
     },
     "execution_count": 63,
     "metadata": {},
     "output_type": "execute_result"
    }
   ],
   "source": [
    "np.sort(df.MESES_RESIDENCIA.unique())"
   ]
  },
  {
   "cell_type": "code",
   "execution_count": 64,
   "metadata": {},
   "outputs": [
    {
     "data": {
      "text/plain": [
       "MESES_RESIDENCIA\n",
       "1.0     7340\n",
       "0.0     4695\n",
       "10.0    3799\n",
       "5.0     3561\n",
       "2.0     3217\n",
       "20.0    2417\n",
       "3.0     2284\n",
       "15.0    1899\n",
       "6.0     1605\n",
       "4.0     1597\n",
       "Name: count, dtype: int64"
      ]
     },
     "execution_count": 64,
     "metadata": {},
     "output_type": "execute_result"
    }
   ],
   "source": [
    "df.MESES_RESIDENCIA.value_counts().head(10)"
   ]
  },
  {
   "cell_type": "code",
   "execution_count": 65,
   "metadata": {},
   "outputs": [
    {
     "data": {
      "text/plain": [
       "3777"
      ]
     },
     "execution_count": 65,
     "metadata": {},
     "output_type": "execute_result"
    }
   ],
   "source": [
    "df.MESES_RESIDENCIA.isna().sum()"
   ]
  },
  {
   "cell_type": "code",
   "execution_count": 66,
   "metadata": {},
   "outputs": [],
   "source": [
    "# Preenchendo os valores Nulos com a média para suavisar o impacto dos valores NaN\n",
    "df['MESES_RESIDENCIA'].fillna(df['MESES_RESIDENCIA'].mean(), inplace=True)\n"
   ]
  },
  {
   "cell_type": "code",
   "execution_count": 67,
   "metadata": {},
   "outputs": [],
   "source": [
    "# Fazendo o agrupamento por faixas\n",
    "bins = [0, 12, 36, 60, 120, 228]\n",
    "labels = ['0-1 ano', '1-3 anos', '3-5 anos', '5-10 anos', '10+ anos']\n",
    "df['MESES_RESIDENCIA'] = pd.cut(df['MESES_RESIDENCIA'], bins=bins, labels=labels)\n"
   ]
  },
  {
   "cell_type": "code",
   "execution_count": 68,
   "metadata": {},
   "outputs": [],
   "source": [
    "aplicar_OHE.append(\"MESES_RESIDENCIA\")"
   ]
  },
  {
   "cell_type": "markdown",
   "metadata": {},
   "source": [
    "## RENDA_PESSOAL_MENSAL"
   ]
  },
  {
   "cell_type": "code",
   "execution_count": 69,
   "metadata": {},
   "outputs": [
    {
     "data": {
      "text/plain": [
       "count     50000.00\n",
       "mean        886.68\n",
       "std        7846.96\n",
       "min          60.00\n",
       "25%         360.00\n",
       "50%         500.00\n",
       "75%         800.00\n",
       "max      959000.00\n",
       "Name: RENDA_PESSOAL_MENSAL, dtype: float64"
      ]
     },
     "execution_count": 69,
     "metadata": {},
     "output_type": "execute_result"
    }
   ],
   "source": [
    "df.RENDA_PESSOAL_MENSAL.describe().round(2)"
   ]
  },
  {
   "cell_type": "code",
   "execution_count": 70,
   "metadata": {},
   "outputs": [
    {
     "name": "stdout",
     "output_type": "stream",
     "text": [
      "Correlação de Pearson: 0.002818633254564069\n"
     ]
    }
   ],
   "source": [
    "df['RENDA_PESSOAL_MENSAL'] = pd.to_numeric(df['RENDA_PESSOAL_MENSAL'], errors='coerce')\n",
    "df['ROTULO_ALVO_MAU_1'] = pd.to_numeric(df['ROTULO_ALVO_MAU_1'], errors='coerce')\n",
    "df_corr = df[['RENDA_PESSOAL_MENSAL', 'ROTULO_ALVO_MAU_1']].dropna()\n",
    "correlation_pearson = df_corr['RENDA_PESSOAL_MENSAL'].corr(df_corr['ROTULO_ALVO_MAU_1'], method='pearson')\n",
    "print(f\"Correlação de Pearson: {correlation_pearson}\")"
   ]
  },
  {
   "cell_type": "code",
   "execution_count": 71,
   "metadata": {},
   "outputs": [
    {
     "name": "stdout",
     "output_type": "stream",
     "text": [
      "69\n"
     ]
    }
   ],
   "source": [
    "# Excluir Outliers Usando o Método de Z-score:\n",
    "\n",
    "# 1. Calcular a média e o desvio padrão da coluna\n",
    "mean = df['RENDA_PESSOAL_MENSAL'].mean()\n",
    "std = df['RENDA_PESSOAL_MENSAL'].std()\n",
    "\n",
    "# 2. Calcular o Z-score para cada valor da coluna\n",
    "z_scores = (df['RENDA_PESSOAL_MENSAL'] - mean) / std\n",
    "\n",
    "# 3. Filtrar somente os outliers (Z-score > 3 ou Z-score < -3)\n",
    "outliers = df[np.abs(z_scores) > 3]\n",
    "\n",
    "# Exibir os outliers\n",
    "print(len(outliers))\n",
    "\n",
    "# removendo os outliers do df\n",
    "df = df[np.abs(z_scores) <= 3]\n"
   ]
  },
  {
   "cell_type": "code",
   "execution_count": 72,
   "metadata": {},
   "outputs": [
    {
     "data": {
      "text/plain": [
       "count    49931.00\n",
       "mean       715.05\n",
       "std        715.68\n",
       "min         60.00\n",
       "25%        360.00\n",
       "50%        500.00\n",
       "75%        800.00\n",
       "max      24160.00\n",
       "Name: RENDA_PESSOAL_MENSAL, dtype: float64"
      ]
     },
     "execution_count": 72,
     "metadata": {},
     "output_type": "execute_result"
    }
   ],
   "source": [
    "df.RENDA_PESSOAL_MENSAL.describe().round(2)"
   ]
  },
  {
   "cell_type": "markdown",
   "metadata": {},
   "source": [
    "## OUTRAS_RENDAS"
   ]
  },
  {
   "cell_type": "code",
   "execution_count": 73,
   "metadata": {},
   "outputs": [
    {
     "data": {
      "text/plain": [
       "count     49931.00\n",
       "mean         35.46\n",
       "std         892.12\n",
       "min           0.00\n",
       "25%           0.00\n",
       "50%           0.00\n",
       "75%           0.00\n",
       "max      194344.00\n",
       "Name: OUTRAS_RENDAS, dtype: float64"
      ]
     },
     "execution_count": 73,
     "metadata": {},
     "output_type": "execute_result"
    }
   ],
   "source": [
    "df.OUTRAS_RENDAS.describe().round(2)"
   ]
  },
  {
   "cell_type": "code",
   "execution_count": 74,
   "metadata": {},
   "outputs": [
    {
     "data": {
      "text/plain": [
       "0.004444016104902468"
      ]
     },
     "execution_count": 74,
     "metadata": {},
     "output_type": "execute_result"
    }
   ],
   "source": [
    "df['OUTRAS_RENDAS'].corr(df['ROTULO_ALVO_MAU_1'])\n"
   ]
  },
  {
   "cell_type": "code",
   "execution_count": 75,
   "metadata": {},
   "outputs": [
    {
     "data": {
      "text/plain": [
       "<Axes: xlabel='OUTRAS_RENDAS'>"
      ]
     },
     "execution_count": 75,
     "metadata": {},
     "output_type": "execute_result"
    },
    {
     "data": {
      "image/png": "[encoded data removed]",
      "text/plain": [
       "<Figure size 640x480 with 1 Axes>"
      ]
     },
     "metadata": {},
     "output_type": "display_data"
    }
   ],
   "source": [
    "sns.boxplot(data=df.loc[(df.OUTRAS_RENDAS != 0) & (df.OUTRAS_RENDAS != 194344)],x=\"OUTRAS_RENDAS\")"
   ]
  },
  {
   "cell_type": "code",
   "execution_count": 76,
   "metadata": {},
   "outputs": [],
   "source": [
    "#Não tem como remover outliers porque a distribuição é bem instável, e ficaria apenas com zeros, e como a correlação é praticamente 0 com a target, vamos dropar a a coluna\n",
    "df.drop(\"OUTRAS_RENDAS\", axis=1, inplace=True)"
   ]
  },
  {
   "cell_type": "markdown",
   "metadata": {},
   "source": [
    "## QUANT_CONTAS_BANCARIAS"
   ]
  },
  {
   "cell_type": "code",
   "execution_count": 77,
   "metadata": {},
   "outputs": [
    {
     "data": {
      "text/plain": [
       "QUANT_CONTAS_BANCARIAS\n",
       "0    32085\n",
       "1    17832\n",
       "2       14\n",
       "Name: count, dtype: int64"
      ]
     },
     "execution_count": 77,
     "metadata": {},
     "output_type": "execute_result"
    }
   ],
   "source": [
    "df.QUANT_CONTAS_BANCARIAS.value_counts()"
   ]
  },
  {
   "cell_type": "code",
   "execution_count": 78,
   "metadata": {},
   "outputs": [],
   "source": [
    "aplicar_OHE.append('QUANT_CONTAS_BANCARIAS')"
   ]
  },
  {
   "cell_type": "markdown",
   "metadata": {},
   "source": [
    "## QUANT_CONTAS_BANCARIAS_ESPECIAIS"
   ]
  },
  {
   "cell_type": "code",
   "execution_count": 79,
   "metadata": {},
   "outputs": [
    {
     "data": {
      "text/plain": [
       "QUANT_CONTAS_BANCARIAS_ESPECIAIS\n",
       "0    32085\n",
       "1    17832\n",
       "2       14\n",
       "Name: count, dtype: int64"
      ]
     },
     "execution_count": 79,
     "metadata": {},
     "output_type": "execute_result"
    }
   ],
   "source": [
    "df.QUANT_CONTAS_BANCARIAS_ESPECIAIS.value_counts()"
   ]
  },
  {
   "cell_type": "code",
   "execution_count": 80,
   "metadata": {},
   "outputs": [
    {
     "data": {
      "text/plain": [
       "Series([], Name: count, dtype: int64)"
      ]
     },
     "execution_count": 80,
     "metadata": {},
     "output_type": "execute_result"
    }
   ],
   "source": [
    "# Verificando se é igual a coluna QUANT_CONTAS_BANCARIAS\n",
    "df.loc[df[\"QUANT_CONTAS_BANCARIAS\"] != df[\"QUANT_CONTAS_BANCARIAS_ESPECIAIS\"]].value_counts()"
   ]
  },
  {
   "cell_type": "code",
   "execution_count": 81,
   "metadata": {},
   "outputs": [],
   "source": [
    "# Pelos valores serem os mesmo, optamos pro dropar essa coluna\n",
    "df.drop(\"QUANT_CONTAS_BANCARIAS_ESPECIAIS\",axis=1,inplace=True)"
   ]
  },
  {
   "cell_type": "markdown",
   "metadata": {},
   "source": [
    "## VALOR_PATRIMONIO_PESSOAL"
   ]
  },
  {
   "cell_type": "code",
   "execution_count": 82,
   "metadata": {},
   "outputs": [
    {
     "data": {
      "text/plain": [
       "count      49931.00\n",
       "mean        2289.23\n",
       "std        41849.25\n",
       "min            0.00\n",
       "25%            0.00\n",
       "50%            0.00\n",
       "75%            0.00\n",
       "max      6000000.00\n",
       "Name: VALOR_PATRIMONIO_PESSOAL, dtype: float64"
      ]
     },
     "execution_count": 82,
     "metadata": {},
     "output_type": "execute_result"
    }
   ],
   "source": [
    "df.VALOR_PATRIMONIO_PESSOAL.describe().round(2)"
   ]
  },
  {
   "cell_type": "code",
   "execution_count": 83,
   "metadata": {},
   "outputs": [
    {
     "data": {
      "text/plain": [
       "2383"
      ]
     },
     "execution_count": 83,
     "metadata": {},
     "output_type": "execute_result"
    }
   ],
   "source": [
    "len(df.loc[df.VALOR_PATRIMONIO_PESSOAL != 0])"
   ]
  },
  {
   "cell_type": "code",
   "execution_count": 84,
   "metadata": {},
   "outputs": [
    {
     "data": {
      "text/plain": [
       "<Axes: xlabel='VALOR_PATRIMONIO_PESSOAL'>"
      ]
     },
     "execution_count": 84,
     "metadata": {},
     "output_type": "execute_result"
    },
    {
     "data": {
      "image/png": "[encoded data removed]",
      "text/plain": [
       "<Figure size 640x480 with 1 Axes>"
      ]
     },
     "metadata": {},
     "output_type": "display_data"
    }
   ],
   "source": [
    "sns.boxplot(data=df.loc[(df.VALOR_PATRIMONIO_PESSOAL != 0) & (df.VALOR_PATRIMONIO_PESSOAL != 194344)],x=\"VALOR_PATRIMONIO_PESSOAL\")"
   ]
  },
  {
   "cell_type": "code",
   "execution_count": 85,
   "metadata": {},
   "outputs": [
    {
     "data": {
      "text/plain": [
       "-0.003431148163664847"
      ]
     },
     "execution_count": 85,
     "metadata": {},
     "output_type": "execute_result"
    }
   ],
   "source": [
    "df['VALOR_PATRIMONIO_PESSOAL'].corr(df['ROTULO_ALVO_MAU_1'])"
   ]
  },
  {
   "cell_type": "code",
   "execution_count": 86,
   "metadata": {},
   "outputs": [],
   "source": [
    "# O mesmo que ocorreu com a coluna OURAS_RENDA acontece com a coluna VALOR_PATRIMONIO_PESSOAL. A distribuição ;e bem instável e a correlaçao com a variavel alvo é praticamente 0, por esse motivo optamos pro dropar essa coluna \n",
    "df.drop(\"VALOR_PATRIMONIO_PESSOAL\", axis=1, inplace=True)"
   ]
  },
  {
   "cell_type": "markdown",
   "metadata": {},
   "source": [
    "## ESTADO_PROFISSIONAL"
   ]
  },
  {
   "cell_type": "code",
   "execution_count": 87,
   "metadata": {},
   "outputs": [
    {
     "data": {
      "text/plain": [
       "array([' ', 'AC', 'AL', 'AM', 'AP', 'BA', 'CE', 'DF', 'ES', 'GO', 'MA',\n",
       "       'MG', 'MS', 'MT', 'PA', 'PB', 'PE', 'PI', 'PR', 'RJ', 'RN', 'RO',\n",
       "       'RR', 'RS', 'SC', 'SE', 'SP', 'TO'], dtype=object)"
      ]
     },
     "execution_count": 87,
     "metadata": {},
     "output_type": "execute_result"
    }
   ],
   "source": [
    "np.sort(df.ESTADO_PROFISSIONAL.unique())"
   ]
  },
  {
   "cell_type": "code",
   "execution_count": 88,
   "metadata": {},
   "outputs": [
    {
     "data": {
      "text/plain": [
       "ESTADO_PROFISSIONAL\n",
       "      34274\n",
       "SP     2395\n",
       "RS     2085\n",
       "CE     1417\n",
       "BA     1382\n",
       "MG     1248\n",
       "PE      900\n",
       "PA      710\n",
       "PR      580\n",
       "RJ      570\n",
       "MT      552\n",
       "RN      491\n",
       "GO      484\n",
       "PB      373\n",
       "MS      352\n",
       "AL      337\n",
       "SC      298\n",
       "DF      267\n",
       "ES      226\n",
       "AP      186\n",
       "MA      184\n",
       "RO      170\n",
       "AM      134\n",
       "PI      100\n",
       "AC       80\n",
       "SE       62\n",
       "TO       58\n",
       "RR       16\n",
       "Name: count, dtype: int64"
      ]
     },
     "execution_count": 88,
     "metadata": {},
     "output_type": "execute_result"
    }
   ],
   "source": [
    "df.ESTADO_PROFISSIONAL.value_counts()"
   ]
  },
  {
   "cell_type": "code",
   "execution_count": 89,
   "metadata": {},
   "outputs": [
    {
     "data": {
      "text/plain": [
       "0.6864272696320923"
      ]
     },
     "execution_count": 89,
     "metadata": {},
     "output_type": "execute_result"
    }
   ],
   "source": [
    "df.loc[df['ESTADO_PROFISSIONAL'] == ' ', 'ESTADO_PROFISSIONAL'] = pd.NA\n",
    "df.ESTADO_PROFISSIONAL.isna().sum()/df.shape[0]"
   ]
  },
  {
   "cell_type": "code",
   "execution_count": 90,
   "metadata": {},
   "outputs": [
    {
     "data": {
      "text/plain": [
       "33750"
      ]
     },
     "execution_count": 90,
     "metadata": {},
     "output_type": "execute_result"
    }
   ],
   "source": [
    "# Verificando a ausencia tanto na coluna ESTADO_PROFISSIONAL como na coluna CIDADE_PROFISSIONAL\n",
    "linhas_faltantes_ambas = df[(df['ESTADO_PROFISSIONAL'].isna()) & (df['CIDADE_PROFISSIONAL'].isna())]\n",
    "len(linhas_faltantes_ambas)"
   ]
  },
  {
   "cell_type": "code",
   "execution_count": 91,
   "metadata": {},
   "outputs": [],
   "source": [
    "# Como 68% do dados da Coluna ESTADO_PROFISSIONAL estão faltantes e torna a coluna inviavel de ser utilizada optamos por exclui-la\n",
    "df.drop(\"ESTADO_PROFISSIONAL\", axis=1, inplace=True)"
   ]
  },
  {
   "cell_type": "markdown",
   "metadata": {},
   "source": [
    "## CIDADE_PROFISSIONAL"
   ]
  },
  {
   "cell_type": "code",
   "execution_count": 92,
   "metadata": {},
   "outputs": [
    {
     "data": {
      "text/plain": [
       "33750"
      ]
     },
     "execution_count": 92,
     "metadata": {},
     "output_type": "execute_result"
    }
   ],
   "source": [
    "df.CIDADE_PROFISSIONAL.isna().sum()"
   ]
  },
  {
   "cell_type": "code",
   "execution_count": 93,
   "metadata": {},
   "outputs": [
    {
     "data": {
      "text/plain": [
       "0.6759327872464"
      ]
     },
     "execution_count": 93,
     "metadata": {},
     "output_type": "execute_result"
    }
   ],
   "source": [
    "#Tratar NaN\n",
    "df.CIDADE_PROFISSIONAL.isna().sum()/df.shape[0]"
   ]
  },
  {
   "cell_type": "code",
   "execution_count": 94,
   "metadata": {},
   "outputs": [],
   "source": [
    "# Ocorre o mesmo que com a coluna anterior ESTADO_PROFISSIONAL\n",
    "df.drop(\"CIDADE_PROFISSIONAL\", axis=1, inplace=True)"
   ]
  },
  {
   "cell_type": "markdown",
   "metadata": {},
   "source": [
    "## BAIRRO_PROFISSIONAL"
   ]
  },
  {
   "cell_type": "code",
   "execution_count": 95,
   "metadata": {},
   "outputs": [
    {
     "data": {
      "text/plain": [
       "33750"
      ]
     },
     "execution_count": 95,
     "metadata": {},
     "output_type": "execute_result"
    }
   ],
   "source": [
    "df.BAIRRO_PROFISSIONAL.isna().sum()"
   ]
  },
  {
   "cell_type": "code",
   "execution_count": 96,
   "metadata": {},
   "outputs": [
    {
     "data": {
      "text/plain": [
       "0.6759327872464"
      ]
     },
     "execution_count": 96,
     "metadata": {},
     "output_type": "execute_result"
    }
   ],
   "source": [
    "df.BAIRRO_PROFISSIONAL.isna().sum()/df.shape[0]"
   ]
  },
  {
   "cell_type": "code",
   "execution_count": 97,
   "metadata": {},
   "outputs": [],
   "source": [
    "# Ocorre o mesmo que com as colunas  ESTADO_PROFISSIONAL e CIDADE_PROFISSIONAL\n",
    "df.drop(\"BAIRRO_PROFISSIONAL\", axis=1, inplace=True)"
   ]
  },
  {
   "cell_type": "markdown",
   "metadata": {},
   "source": [
    "## CODIGO_AREA_TELEFONE_PROFISSIONAL"
   ]
  },
  {
   "cell_type": "code",
   "execution_count": 98,
   "metadata": {},
   "outputs": [
    {
     "data": {
      "text/plain": [
       "CODIGO_AREA_TELEFONE_PROFISSIONAL\n",
       "       36495\n",
       "5       1453\n",
       "54      1106\n",
       "107      978\n",
       "97       644\n",
       "       ...  \n",
       "55         1\n",
       "96         1\n",
       "19         1\n",
       "37         1\n",
       "17         1\n",
       "Name: count, Length: 87, dtype: int64"
      ]
     },
     "execution_count": 98,
     "metadata": {},
     "output_type": "execute_result"
    }
   ],
   "source": [
    "df.CODIGO_AREA_TELEFONE_PROFISSIONAL.value_counts()"
   ]
  },
  {
   "cell_type": "code",
   "execution_count": 99,
   "metadata": {},
   "outputs": [
    {
     "data": {
      "text/plain": [
       "0.7309086539424405"
      ]
     },
     "execution_count": 99,
     "metadata": {},
     "output_type": "execute_result"
    }
   ],
   "source": [
    "df.loc[df['CODIGO_AREA_TELEFONE_PROFISSIONAL'] == ' ', 'CODIGO_AREA_TELEFONE_PROFISSIONAL'] = pd.NA\n",
    "df.CODIGO_AREA_TELEFONE_PROFISSIONAL.isna().sum()/df.shape[0]"
   ]
  },
  {
   "cell_type": "code",
   "execution_count": 100,
   "metadata": {},
   "outputs": [],
   "source": [
    "# 73% dos dados faltante.\n",
    "df.drop(\"CODIGO_AREA_TELEFONE_PROFISSIONAL\", axis=1, inplace=True)"
   ]
  },
  {
   "cell_type": "markdown",
   "metadata": {},
   "source": [
    "## MESES_NO_TRABALHO"
   ]
  },
  {
   "cell_type": "code",
   "execution_count": 101,
   "metadata": {},
   "outputs": [
    {
     "data": {
      "text/plain": [
       "MESES_NO_TRABALHO\n",
       "0     49855\n",
       "2        18\n",
       "1        15\n",
       "3        12\n",
       "5         6\n",
       "4         4\n",
       "8         2\n",
       "12        2\n",
       "18        2\n",
       "7         2\n",
       "14        2\n",
       "6         2\n",
       "10        1\n",
       "30        1\n",
       "9         1\n",
       "19        1\n",
       "32        1\n",
       "27        1\n",
       "26        1\n",
       "35        1\n",
       "15        1\n",
       "Name: count, dtype: int64"
      ]
     },
     "execution_count": 101,
     "metadata": {},
     "output_type": "execute_result"
    }
   ],
   "source": [
    "df.MESES_NO_TRABALHO.value_counts()"
   ]
  },
  {
   "cell_type": "code",
   "execution_count": 102,
   "metadata": {},
   "outputs": [
    {
     "data": {
      "text/plain": [
       "-0.007075976726483518"
      ]
     },
     "execution_count": 102,
     "metadata": {},
     "output_type": "execute_result"
    }
   ],
   "source": [
    "df['ROTULO_ALVO_MAU_1'].corr(df['MESES_NO_TRABALHO'])"
   ]
  },
  {
   "cell_type": "code",
   "execution_count": 103,
   "metadata": {},
   "outputs": [],
   "source": [
    "df.drop(\"MESES_NO_TRABALHO\", axis=1, inplace=True)"
   ]
  },
  {
   "cell_type": "markdown",
   "metadata": {},
   "source": [
    "A coluna MESES_NO_TRABALHO apresenta uma distribuição altamente desbalanceada, com o valor 0 dominando em quase todas as observações (99,95%). Isso sugere que a maior parte dos indivíduos não possui meses de trabalho registrados. A baixa variabilidade da coluna não contribui para o modelo."
   ]
  },
  {
   "cell_type": "markdown",
   "metadata": {},
   "source": [
    "## CODIGO_PROFISSAO"
   ]
  },
  {
   "cell_type": "code",
   "execution_count": 104,
   "metadata": {},
   "outputs": [
    {
     "data": {
      "text/plain": [
       "7751"
      ]
     },
     "execution_count": 104,
     "metadata": {},
     "output_type": "execute_result"
    }
   ],
   "source": [
    "df.CODIGO_PROFISSAO.isna().sum()"
   ]
  },
  {
   "cell_type": "code",
   "execution_count": 105,
   "metadata": {},
   "outputs": [
    {
     "data": {
      "text/plain": [
       "CODIGO_PROFISSAO\n",
       "9.0     30045\n",
       "11.0     3542\n",
       "0.0      3532\n",
       "2.0      2826\n",
       "12.0      489\n",
       "10.0      425\n",
       "16.0      342\n",
       "13.0      313\n",
       "7.0       213\n",
       "8.0       144\n",
       "6.0       136\n",
       "15.0       63\n",
       "17.0       35\n",
       "4.0        27\n",
       "3.0        18\n",
       "5.0        12\n",
       "14.0        9\n",
       "1.0         8\n",
       "18.0        1\n",
       "Name: count, dtype: int64"
      ]
     },
     "execution_count": 105,
     "metadata": {},
     "output_type": "execute_result"
    }
   ],
   "source": [
    "df.CODIGO_PROFISSAO.value_counts()"
   ]
  },
  {
   "cell_type": "code",
   "execution_count": 106,
   "metadata": {},
   "outputs": [
    {
     "data": {
      "text/plain": [
       "0.15523422322805472"
      ]
     },
     "execution_count": 106,
     "metadata": {},
     "output_type": "execute_result"
    }
   ],
   "source": [
    "df.CODIGO_PROFISSAO.isna().sum()/df.shape[0]"
   ]
  },
  {
   "cell_type": "code",
   "execution_count": 107,
   "metadata": {},
   "outputs": [
    {
     "data": {
      "text/plain": [
       "-0.011598171099811852"
      ]
     },
     "execution_count": 107,
     "metadata": {},
     "output_type": "execute_result"
    }
   ],
   "source": [
    "df['ROTULO_ALVO_MAU_1'].corr(df['CODIGO_PROFISSAO'])"
   ]
  },
  {
   "cell_type": "code",
   "execution_count": 108,
   "metadata": {},
   "outputs": [],
   "source": [
    "# Como a correlação com a variavel alvo é quase irrelevante e possui 15% de dados nulos, preferimos por dropar a coluna\n",
    "df.drop(\"CODIGO_PROFISSAO\", axis=1, inplace=True)"
   ]
  },
  {
   "cell_type": "markdown",
   "metadata": {},
   "source": [
    "## TIPO_OCUPACAO"
   ]
  },
  {
   "cell_type": "code",
   "execution_count": 109,
   "metadata": {},
   "outputs": [
    {
     "data": {
      "text/plain": [
       "7305"
      ]
     },
     "execution_count": 109,
     "metadata": {},
     "output_type": "execute_result"
    }
   ],
   "source": [
    "df.TIPO_OCUPACAO.isna().sum()"
   ]
  },
  {
   "cell_type": "code",
   "execution_count": 110,
   "metadata": {},
   "outputs": [
    {
     "data": {
      "text/plain": [
       "TIPO_OCUPACAO\n",
       "2.0    16922\n",
       "1.0     8734\n",
       "4.0     6996\n",
       "5.0     6877\n",
       "0.0     2779\n",
       "3.0      318\n",
       "Name: count, dtype: int64"
      ]
     },
     "execution_count": 110,
     "metadata": {},
     "output_type": "execute_result"
    }
   ],
   "source": [
    "df.TIPO_OCUPACAO.value_counts()"
   ]
  },
  {
   "cell_type": "code",
   "execution_count": 111,
   "metadata": {},
   "outputs": [
    {
     "data": {
      "text/plain": [
       "0.04033645691882448"
      ]
     },
     "execution_count": 111,
     "metadata": {},
     "output_type": "execute_result"
    }
   ],
   "source": [
    "df['ROTULO_ALVO_MAU_1'].corr(df['TIPO_OCUPACAO'])"
   ]
  },
  {
   "cell_type": "code",
   "execution_count": 112,
   "metadata": {},
   "outputs": [],
   "source": [
    "# Como a correlaçao é fraca porém maior que a correlacao entre a variavel alvo e a coluna  CODIGO_PROFISSAO, optamos por preencher os valores nulos com \"nao informado\" para evitar perda de informação.\n",
    "df.TIPO_OCUPACAO.fillna(\"nao informado\", inplace=True)"
   ]
  },
  {
   "cell_type": "code",
   "execution_count": 113,
   "metadata": {},
   "outputs": [
    {
     "data": {
      "text/plain": [
       "TIPO_OCUPACAO\n",
       "2.0              33.890769\n",
       "1.0              17.492139\n",
       "nao informado    14.630190\n",
       "4.0              14.011336\n",
       "5.0              13.773007\n",
       "0.0               5.565681\n",
       "3.0               0.636879\n",
       "Name: proportion, dtype: float64"
      ]
     },
     "execution_count": 113,
     "metadata": {},
     "output_type": "execute_result"
    }
   ],
   "source": [
    "(df['TIPO_OCUPACAO'].value_counts(normalize=True) * 100)"
   ]
  },
  {
   "cell_type": "code",
   "execution_count": 114,
   "metadata": {},
   "outputs": [],
   "source": [
    "aplicar_RL['TIPO_OCUPACAO'] = 0.1\n",
    "aplicar_OHE.append(\"TIPO_OCUPACAO\")"
   ]
  },
  {
   "cell_type": "markdown",
   "metadata": {},
   "source": [
    "## CODIGO_PROFISSAO_CONJUGE"
   ]
  },
  {
   "cell_type": "code",
   "execution_count": 115,
   "metadata": {},
   "outputs": [
    {
     "data": {
      "text/plain": [
       "28854"
      ]
     },
     "execution_count": 115,
     "metadata": {},
     "output_type": "execute_result"
    }
   ],
   "source": [
    "df.CODIGO_PROFISSAO_CONJUGE.isna().sum()"
   ]
  },
  {
   "cell_type": "code",
   "execution_count": 116,
   "metadata": {},
   "outputs": [
    {
     "data": {
      "text/plain": [
       "CODIGO_PROFISSAO_CONJUGE\n",
       "0     13602\n",
       "11     6001\n",
       "9      1031\n",
       "16      207\n",
       "2       110\n",
       "12       34\n",
       "10       31\n",
       "6        16\n",
       "13       15\n",
       "7        11\n",
       "8         7\n",
       "15        3\n",
       "17        3\n",
       "14        2\n",
       "5         1\n",
       "1         1\n",
       "3         1\n",
       "4         1\n",
       "Name: count, dtype: Int64"
      ]
     },
     "execution_count": 116,
     "metadata": {},
     "output_type": "execute_result"
    }
   ],
   "source": [
    "df.CODIGO_PROFISSAO_CONJUGE = df.CODIGO_PROFISSAO_CONJUGE.astype(\"Int64\")\n",
    "df.CODIGO_PROFISSAO_CONJUGE.value_counts()"
   ]
  },
  {
   "cell_type": "code",
   "execution_count": 117,
   "metadata": {},
   "outputs": [
    {
     "data": {
      "text/plain": [
       "-0.03503219202548166"
      ]
     },
     "execution_count": 117,
     "metadata": {},
     "output_type": "execute_result"
    }
   ],
   "source": [
    "df['ROTULO_ALVO_MAU_1'].corr(df['CODIGO_PROFISSAO_CONJUGE'])\n"
   ]
  },
  {
   "cell_type": "code",
   "execution_count": 118,
   "metadata": {},
   "outputs": [
    {
     "data": {
      "text/plain": [
       "0.5778774709098556"
      ]
     },
     "execution_count": 118,
     "metadata": {},
     "output_type": "execute_result"
    }
   ],
   "source": [
    "df.CODIGO_PROFISSAO_CONJUGE.isna().sum()/df.shape[0]"
   ]
  },
  {
   "cell_type": "code",
   "execution_count": 119,
   "metadata": {},
   "outputs": [],
   "source": [
    "# Possui muitos valores faltantes e a correlaçao com a variavel alvo é muito baixa\n",
    "df.drop(\"CODIGO_PROFISSAO_CONJUGE\", axis=1, inplace=True)"
   ]
  },
  {
   "cell_type": "markdown",
   "metadata": {},
   "source": [
    "## NIVEL_EDUCACIONAL_CONJUGE"
   ]
  },
  {
   "cell_type": "code",
   "execution_count": 120,
   "metadata": {},
   "outputs": [
    {
     "data": {
      "text/plain": [
       "32305"
      ]
     },
     "execution_count": 120,
     "metadata": {},
     "output_type": "execute_result"
    }
   ],
   "source": [
    "df.NIVEL_EDUCACIONAL_CONJUGE.isna().sum()"
   ]
  },
  {
   "cell_type": "code",
   "execution_count": 121,
   "metadata": {},
   "outputs": [
    {
     "data": {
      "text/plain": [
       "NIVEL_EDUCACIONAL_CONJUGE\n",
       "0.0    15964\n",
       "3.0      618\n",
       "4.0      615\n",
       "2.0      341\n",
       "1.0       56\n",
       "5.0       32\n",
       "Name: count, dtype: int64"
      ]
     },
     "execution_count": 121,
     "metadata": {},
     "output_type": "execute_result"
    }
   ],
   "source": [
    "df.NIVEL_EDUCACIONAL_CONJUGE.value_counts()"
   ]
  },
  {
   "cell_type": "code",
   "execution_count": 122,
   "metadata": {},
   "outputs": [],
   "source": [
    "df.NIVEL_EDUCACIONAL_CONJUGE = df.NIVEL_EDUCACIONAL_CONJUGE.astype(\"Int64\")"
   ]
  },
  {
   "cell_type": "code",
   "execution_count": 123,
   "metadata": {},
   "outputs": [
    {
     "data": {
      "text/plain": [
       "-0.03255461834643098"
      ]
     },
     "execution_count": 123,
     "metadata": {},
     "output_type": "execute_result"
    }
   ],
   "source": [
    "df['ROTULO_ALVO_MAU_1'].corr(df['NIVEL_EDUCACIONAL_CONJUGE'])"
   ]
  },
  {
   "cell_type": "code",
   "execution_count": 124,
   "metadata": {},
   "outputs": [
    {
     "data": {
      "text/plain": [
       "0.6469928501331838"
      ]
     },
     "execution_count": 124,
     "metadata": {},
     "output_type": "execute_result"
    }
   ],
   "source": [
    "df.NIVEL_EDUCACIONAL_CONJUGE.isna().sum()/df.shape[0]"
   ]
  },
  {
   "cell_type": "code",
   "execution_count": 125,
   "metadata": {},
   "outputs": [],
   "source": [
    "# Possui muitos valores faltantes assim como na coluna anterios e a correlaçao com a variavel alvo é muito baixa\n",
    "df.drop(\"NIVEL_EDUCACIONAL_CONJUGE\", axis=1, inplace=True)\n"
   ]
  },
  {
   "cell_type": "markdown",
   "metadata": {},
   "source": [
    "## PRODUTO"
   ]
  },
  {
   "cell_type": "code",
   "execution_count": 126,
   "metadata": {},
   "outputs": [
    {
     "data": {
      "text/plain": [
       "PRODUTO\n",
       "1    42631\n",
       "2     6007\n",
       "7     1293\n",
       "Name: count, dtype: int64"
      ]
     },
     "execution_count": 126,
     "metadata": {},
     "output_type": "execute_result"
    }
   ],
   "source": [
    "df.PRODUTO.value_counts()"
   ]
  },
  {
   "cell_type": "code",
   "execution_count": 127,
   "metadata": {},
   "outputs": [],
   "source": [
    "aplicar_OHE.append(\"PRODUTO\")"
   ]
  },
  {
   "cell_type": "markdown",
   "metadata": {},
   "source": [
    "## IDADE"
   ]
  },
  {
   "cell_type": "code",
   "execution_count": 128,
   "metadata": {},
   "outputs": [
    {
     "data": {
      "text/plain": [
       "IDADE\n",
       "39    1293\n",
       "36    1283\n",
       "40    1267\n",
       "37    1266\n",
       "41    1249\n",
       "31    1240\n",
       "32    1239\n",
       "35    1238\n",
       "34    1237\n",
       "38    1233\n",
       "43    1222\n",
       "28    1213\n",
       "42    1199\n",
       "33    1194\n",
       "30    1160\n",
       "44    1156\n",
       "45    1114\n",
       "29    1099\n",
       "46    1088\n",
       "27    1075\n",
       "Name: count, dtype: int64"
      ]
     },
     "execution_count": 128,
     "metadata": {},
     "output_type": "execute_result"
    }
   ],
   "source": [
    "df.IDADE.value_counts().head(20)"
   ]
  },
  {
   "cell_type": "code",
   "execution_count": 129,
   "metadata": {},
   "outputs": [
    {
     "data": {
      "text/plain": [
       "count    49931.000000\n",
       "mean        43.248583\n",
       "std         14.992260\n",
       "min          6.000000\n",
       "25%         31.000000\n",
       "50%         41.000000\n",
       "75%         53.000000\n",
       "max        106.000000\n",
       "Name: IDADE, dtype: float64"
      ]
     },
     "execution_count": 129,
     "metadata": {},
     "output_type": "execute_result"
    }
   ],
   "source": [
    "df.IDADE.describe()"
   ]
  },
  {
   "cell_type": "code",
   "execution_count": 130,
   "metadata": {},
   "outputs": [
    {
     "name": "stdout",
     "output_type": "stream",
     "text": [
      "82\n"
     ]
    }
   ],
   "source": [
    "# Excluir Outliers Usando o Método de Z-score:\n",
    "\n",
    "# 1. Calcular a média e o desvio padrão da coluna\n",
    "mean = df['IDADE'].mean()\n",
    "std = df['IDADE'].std()\n",
    "\n",
    "# 2. Calcular o Z-score para cada valor da coluna\n",
    "z_scores = (df['IDADE'] - mean) / std\n",
    "\n",
    "# 3. Filtrar somente os outliers (Z-score > 3 ou Z-score < -3)\n",
    "outliers = df[np.abs(z_scores) > 3]\n",
    "\n",
    "# Exibir os outliers\n",
    "print(len(outliers))\n",
    "\n",
    "# removendo os outliers do df\n",
    "df = df[np.abs(z_scores) <= 3]"
   ]
  },
  {
   "cell_type": "code",
   "execution_count": 131,
   "metadata": {},
   "outputs": [
    {
     "data": {
      "text/plain": [
       "count    49849.000000\n",
       "mean        43.167546\n",
       "std         14.869905\n",
       "min          6.000000\n",
       "25%         31.000000\n",
       "50%         41.000000\n",
       "75%         53.000000\n",
       "max         88.000000\n",
       "Name: IDADE, dtype: float64"
      ]
     },
     "execution_count": 131,
     "metadata": {},
     "output_type": "execute_result"
    }
   ],
   "source": [
    "df.IDADE.describe()"
   ]
  },
  {
   "cell_type": "code",
   "execution_count": 132,
   "metadata": {},
   "outputs": [],
   "source": [
    "aplicar_RL['IDADE'] = 0.01\n",
    "aplicar_CF.append(\"IDADE\")"
   ]
  },
  {
   "cell_type": "markdown",
   "metadata": {},
   "source": [
    "## CEP_RESIDENCIAL_3"
   ]
  },
  {
   "cell_type": "code",
   "execution_count": 133,
   "metadata": {},
   "outputs": [
    {
     "data": {
      "text/plain": [
       "array([595, 230, 591, ..., '337', '240', 802], dtype=object)"
      ]
     },
     "execution_count": 133,
     "metadata": {},
     "output_type": "execute_result"
    }
   ],
   "source": [
    "df.CEP_RESIDENCIAL_3.unique()"
   ]
  },
  {
   "cell_type": "code",
   "execution_count": 134,
   "metadata": {},
   "outputs": [],
   "source": [
    "df['CEP_RESIDENCIAL_3'] = df['CEP_RESIDENCIAL_3'].astype(str)"
   ]
  },
  {
   "cell_type": "code",
   "execution_count": 135,
   "metadata": {},
   "outputs": [
    {
     "data": {
      "text/plain": [
       "CEP_RESIDENCIAL_3\n",
       "960        1085\n",
       "591         835\n",
       "570         759\n",
       "628         669\n",
       "456         662\n",
       "           ... \n",
       "301           1\n",
       "907           1\n",
       "408           1\n",
       "674           1\n",
       "#DIV/0!       1\n",
       "Name: count, Length: 794, dtype: int64"
      ]
     },
     "execution_count": 135,
     "metadata": {},
     "output_type": "execute_result"
    }
   ],
   "source": [
    "df.CEP_RESIDENCIAL_3.value_counts()"
   ]
  },
  {
   "cell_type": "code",
   "execution_count": 136,
   "metadata": {},
   "outputs": [],
   "source": [
    "df.loc[df.CEP_RESIDENCIAL_3 == '#DIV/0!', 'CEP_RESIDENCIAL_3'] = 'None'"
   ]
  },
  {
   "cell_type": "code",
   "execution_count": 137,
   "metadata": {},
   "outputs": [],
   "source": [
    "aplicar_RL['CEP_RESIDENCIAL_3'] = 0.01\n",
    "aplicar_CF.append(\"CEP_RESIDENCIAL_3\")"
   ]
  },
  {
   "cell_type": "markdown",
   "metadata": {},
   "source": [
    "## CEP_PROFISSIONAL_3"
   ]
  },
  {
   "cell_type": "code",
   "execution_count": 138,
   "metadata": {},
   "outputs": [
    {
     "data": {
      "text/plain": [
       "array([595, 230, 591, ..., '337', '240', 802], dtype=object)"
      ]
     },
     "execution_count": 138,
     "metadata": {},
     "output_type": "execute_result"
    }
   ],
   "source": [
    "df.CEP_PROFISSIONAL_3.unique()"
   ]
  },
  {
   "cell_type": "code",
   "execution_count": 139,
   "metadata": {},
   "outputs": [],
   "source": [
    "df['CEP_PROFISSIONAL_3'] = df['CEP_PROFISSIONAL_3'].astype(str)"
   ]
  },
  {
   "cell_type": "code",
   "execution_count": 140,
   "metadata": {},
   "outputs": [
    {
     "data": {
      "text/plain": [
       "CEP_PROFISSIONAL_3\n",
       "960        1085\n",
       "591         835\n",
       "570         759\n",
       "628         669\n",
       "456         662\n",
       "           ... \n",
       "301           1\n",
       "907           1\n",
       "408           1\n",
       "674           1\n",
       "#DIV/0!       1\n",
       "Name: count, Length: 794, dtype: int64"
      ]
     },
     "execution_count": 140,
     "metadata": {},
     "output_type": "execute_result"
    }
   ],
   "source": [
    "df.CEP_PROFISSIONAL_3.value_counts()"
   ]
  },
  {
   "cell_type": "code",
   "execution_count": 141,
   "metadata": {},
   "outputs": [],
   "source": [
    "df.loc[df.CEP_PROFISSIONAL_3 == '#DIV/0!', 'CEP_PROFISSIONAL_3'] = 'None'"
   ]
  },
  {
   "cell_type": "code",
   "execution_count": 142,
   "metadata": {},
   "outputs": [
    {
     "data": {
      "text/plain": [
       "0"
      ]
     },
     "execution_count": 142,
     "metadata": {},
     "output_type": "execute_result"
    }
   ],
   "source": [
    "# Verificando se ela é igual a coluna CEP_RESIDENCIAL_3\n",
    "len(df.loc[df[\"CEP_PROFISSIONAL_3\"] != df[\"CEP_RESIDENCIAL_3\"]])"
   ]
  },
  {
   "cell_type": "code",
   "execution_count": 143,
   "metadata": {},
   "outputs": [],
   "source": [
    "# Excluir a coluna por conter os mesmo valores que a coluna CEP_RESIDENCIAL_3\n",
    "df.drop(\"CEP_PROFISSIONAL_3\",axis=1,inplace=True)"
   ]
  },
  {
   "cell_type": "markdown",
   "metadata": {},
   "source": [
    "## ROTULO_ALVO_MAU_1"
   ]
  },
  {
   "cell_type": "code",
   "execution_count": 144,
   "metadata": {},
   "outputs": [
    {
     "data": {
      "text/plain": [
       "ROTULO_ALVO_MAU_1\n",
       "0    36863\n",
       "1    12986\n",
       "Name: count, dtype: int64"
      ]
     },
     "execution_count": 144,
     "metadata": {},
     "output_type": "execute_result"
    }
   ],
   "source": [
    "df.ROTULO_ALVO_MAU_1.value_counts()"
   ]
  },
  {
   "cell_type": "code",
   "execution_count": 145,
   "metadata": {},
   "outputs": [],
   "source": [
    "# Trasnformar em categorica\n",
    "df.ROTULO_ALVO_MAU_1 = df.ROTULO_ALVO_MAU_1.astype('category')"
   ]
  },
  {
   "cell_type": "markdown",
   "metadata": {},
   "source": [
    "# Matriz de Correlação"
   ]
  },
  {
   "cell_type": "code",
   "execution_count": 146,
   "metadata": {},
   "outputs": [
    {
     "data": {
      "image/png": "[encoded data removed]",
      "text/plain": [
       "<Figure size 2000x700 with 2 Axes>"
      ]
     },
     "metadata": {},
     "output_type": "display_data"
    }
   ],
   "source": [
    "# Visualizar a matriz de correlação usando um heatmap\n",
    "plt.figure(figsize=(20, 7))\n",
    "sns.heatmap(df.corr(numeric_only=True), annot=True, cmap='coolwarm', fmt='.2f')\n",
    "plt.title('Matriz de Correlação de Pearson')\n",
    "plt.show()"
   ]
  },
  {
   "cell_type": "markdown",
   "metadata": {},
   "source": [
    "# Encoding"
   ]
  },
  {
   "cell_type": "markdown",
   "metadata": {},
   "source": [
    "## Rare Label"
   ]
  },
  {
   "cell_type": "code",
   "execution_count": 147,
   "metadata": {},
   "outputs": [
    {
     "data": {
      "text/plain": [
       "{'DIA_PAGAMENTO': 0.1,\n",
       " 'ESTADO_CIVIL': 0.03,\n",
       " 'ESTADO_NASCIMENTO': 0.07,\n",
       " 'ESTADO_RESIDENCIAL': 0.07,\n",
       " 'CIDADE_RESIDENCIAL': 0.015,\n",
       " 'BAIRRO_RESIDENCIAL': 0.05,\n",
       " 'TIPO_RESIDENCIA': 0.03,\n",
       " 'TIPO_OCUPACAO': 0.1,\n",
       " 'IDADE': 0.01,\n",
       " 'CEP_RESIDENCIAL_3': 0.01}"
      ]
     },
     "execution_count": 147,
     "metadata": {},
     "output_type": "execute_result"
    }
   ],
   "source": [
    "aplicar_RL"
   ]
  },
  {
   "cell_type": "code",
   "execution_count": 148,
   "metadata": {},
   "outputs": [
    {
     "data": {
      "text/html": [
       "<div>\n",
       "<style scoped>\n",
       "    .dataframe tbody tr th:only-of-type {\n",
       "        vertical-align: middle;\n",
       "    }\n",
       "\n",
       "    .dataframe tbody tr th {\n",
       "        vertical-align: top;\n",
       "    }\n",
       "\n",
       "    .dataframe thead th {\n",
       "        text-align: right;\n",
       "    }\n",
       "</style>\n",
       "<table border=\"1\" class=\"dataframe\">\n",
       "  <thead>\n",
       "    <tr style=\"text-align: right;\">\n",
       "      <th></th>\n",
       "      <th>DIA_PAGAMENTO</th>\n",
       "      <th>TIPO_ENVIO_APLICACAO</th>\n",
       "      <th>TIPO_ENDERECO_POSTAL</th>\n",
       "      <th>SEXO</th>\n",
       "      <th>ESTADO_CIVIL</th>\n",
       "      <th>QUANT_DEPENDENTES</th>\n",
       "      <th>ESTADO_NASCIMENTO</th>\n",
       "      <th>ESTADO_RESIDENCIAL</th>\n",
       "      <th>CIDADE_RESIDENCIAL</th>\n",
       "      <th>BAIRRO_RESIDENCIAL</th>\n",
       "      <th>...</th>\n",
       "      <th>FLAG_OUTROS_CARTOES</th>\n",
       "      <th>QUANT_CONTAS_BANCARIAS</th>\n",
       "      <th>QUANT_CARROS</th>\n",
       "      <th>EMPRESA</th>\n",
       "      <th>FLAG_TELEFONE_PROFISSIONAL</th>\n",
       "      <th>TIPO_OCUPACAO</th>\n",
       "      <th>PRODUTO</th>\n",
       "      <th>IDADE</th>\n",
       "      <th>CEP_RESIDENCIAL_3</th>\n",
       "      <th>ROTULO_ALVO_MAU_1</th>\n",
       "    </tr>\n",
       "    <tr>\n",
       "      <th>ID_CLIENTE</th>\n",
       "      <th></th>\n",
       "      <th></th>\n",
       "      <th></th>\n",
       "      <th></th>\n",
       "      <th></th>\n",
       "      <th></th>\n",
       "      <th></th>\n",
       "      <th></th>\n",
       "      <th></th>\n",
       "      <th></th>\n",
       "      <th></th>\n",
       "      <th></th>\n",
       "      <th></th>\n",
       "      <th></th>\n",
       "      <th></th>\n",
       "      <th></th>\n",
       "      <th></th>\n",
       "      <th></th>\n",
       "      <th></th>\n",
       "      <th></th>\n",
       "      <th></th>\n",
       "    </tr>\n",
       "  </thead>\n",
       "  <tbody>\n",
       "    <tr>\n",
       "      <th>1</th>\n",
       "      <td>5</td>\n",
       "      <td>Web</td>\n",
       "      <td>False</td>\n",
       "      <td>F</td>\n",
       "      <td>6</td>\n",
       "      <td>0</td>\n",
       "      <td>Rare</td>\n",
       "      <td>Rare</td>\n",
       "      <td>Rare</td>\n",
       "      <td>centro</td>\n",
       "      <td>...</td>\n",
       "      <td>False</td>\n",
       "      <td>0</td>\n",
       "      <td>False</td>\n",
       "      <td>False</td>\n",
       "      <td>False</td>\n",
       "      <td>4.0</td>\n",
       "      <td>1</td>\n",
       "      <td>32</td>\n",
       "      <td>Rare</td>\n",
       "      <td>1</td>\n",
       "    </tr>\n",
       "    <tr>\n",
       "      <th>2</th>\n",
       "      <td>15</td>\n",
       "      <td>Carga</td>\n",
       "      <td>False</td>\n",
       "      <td>F</td>\n",
       "      <td>2</td>\n",
       "      <td>NaN</td>\n",
       "      <td>Rare</td>\n",
       "      <td>Rare</td>\n",
       "      <td>Rare</td>\n",
       "      <td>Rare</td>\n",
       "      <td>...</td>\n",
       "      <td>False</td>\n",
       "      <td>0</td>\n",
       "      <td>False</td>\n",
       "      <td>True</td>\n",
       "      <td>False</td>\n",
       "      <td>4.0</td>\n",
       "      <td>1</td>\n",
       "      <td>34</td>\n",
       "      <td>Rare</td>\n",
       "      <td>1</td>\n",
       "    </tr>\n",
       "    <tr>\n",
       "      <th>3</th>\n",
       "      <td>5</td>\n",
       "      <td>Web</td>\n",
       "      <td>False</td>\n",
       "      <td>F</td>\n",
       "      <td>2</td>\n",
       "      <td>NaN</td>\n",
       "      <td>Rare</td>\n",
       "      <td>Rare</td>\n",
       "      <td>Rare</td>\n",
       "      <td>Rare</td>\n",
       "      <td>...</td>\n",
       "      <td>False</td>\n",
       "      <td>0</td>\n",
       "      <td>False</td>\n",
       "      <td>False</td>\n",
       "      <td>False</td>\n",
       "      <td>nao informado</td>\n",
       "      <td>1</td>\n",
       "      <td>27</td>\n",
       "      <td>591</td>\n",
       "      <td>0</td>\n",
       "    </tr>\n",
       "    <tr>\n",
       "      <th>4</th>\n",
       "      <td>20</td>\n",
       "      <td>Web</td>\n",
       "      <td>False</td>\n",
       "      <td>F</td>\n",
       "      <td>2</td>\n",
       "      <td>NaN</td>\n",
       "      <td>PE</td>\n",
       "      <td>PE</td>\n",
       "      <td>Rare</td>\n",
       "      <td>Rare</td>\n",
       "      <td>...</td>\n",
       "      <td>False</td>\n",
       "      <td>0</td>\n",
       "      <td>False</td>\n",
       "      <td>False</td>\n",
       "      <td>False</td>\n",
       "      <td>nao informado</td>\n",
       "      <td>1</td>\n",
       "      <td>61</td>\n",
       "      <td>Rare</td>\n",
       "      <td>0</td>\n",
       "    </tr>\n",
       "    <tr>\n",
       "      <th>5</th>\n",
       "      <td>10</td>\n",
       "      <td>Web</td>\n",
       "      <td>False</td>\n",
       "      <td>M</td>\n",
       "      <td>2</td>\n",
       "      <td>NaN</td>\n",
       "      <td>Rare</td>\n",
       "      <td>Rare</td>\n",
       "      <td>Rare</td>\n",
       "      <td>Rare</td>\n",
       "      <td>...</td>\n",
       "      <td>False</td>\n",
       "      <td>0</td>\n",
       "      <td>False</td>\n",
       "      <td>False</td>\n",
       "      <td>False</td>\n",
       "      <td>5.0</td>\n",
       "      <td>1</td>\n",
       "      <td>48</td>\n",
       "      <td>Rare</td>\n",
       "      <td>1</td>\n",
       "    </tr>\n",
       "  </tbody>\n",
       "</table>\n",
       "<p>5 rows × 29 columns</p>\n",
       "</div>"
      ],
      "text/plain": [
       "           DIA_PAGAMENTO TIPO_ENVIO_APLICACAO  TIPO_ENDERECO_POSTAL SEXO  \\\n",
       "ID_CLIENTE                                                                 \n",
       "1                      5                  Web                 False    F   \n",
       "2                     15                Carga                 False    F   \n",
       "3                      5                  Web                 False    F   \n",
       "4                     20                  Web                 False    F   \n",
       "5                     10                  Web                 False    M   \n",
       "\n",
       "           ESTADO_CIVIL QUANT_DEPENDENTES ESTADO_NASCIMENTO  \\\n",
       "ID_CLIENTE                                                    \n",
       "1                     6                 0              Rare   \n",
       "2                     2               NaN              Rare   \n",
       "3                     2               NaN              Rare   \n",
       "4                     2               NaN                PE   \n",
       "5                     2               NaN              Rare   \n",
       "\n",
       "           ESTADO_RESIDENCIAL CIDADE_RESIDENCIAL BAIRRO_RESIDENCIAL  ...  \\\n",
       "ID_CLIENTE                                                           ...   \n",
       "1                        Rare               Rare             centro  ...   \n",
       "2                        Rare               Rare               Rare  ...   \n",
       "3                        Rare               Rare               Rare  ...   \n",
       "4                          PE               Rare               Rare  ...   \n",
       "5                        Rare               Rare               Rare  ...   \n",
       "\n",
       "            FLAG_OUTROS_CARTOES QUANT_CONTAS_BANCARIAS QUANT_CARROS  EMPRESA  \\\n",
       "ID_CLIENTE                                                                     \n",
       "1                         False                      0        False    False   \n",
       "2                         False                      0        False     True   \n",
       "3                         False                      0        False    False   \n",
       "4                         False                      0        False    False   \n",
       "5                         False                      0        False    False   \n",
       "\n",
       "            FLAG_TELEFONE_PROFISSIONAL  TIPO_OCUPACAO  PRODUTO  IDADE  \\\n",
       "ID_CLIENTE                                                              \n",
       "1                                False            4.0        1     32   \n",
       "2                                False            4.0        1     34   \n",
       "3                                False  nao informado        1     27   \n",
       "4                                False  nao informado        1     61   \n",
       "5                                False            5.0        1     48   \n",
       "\n",
       "            CEP_RESIDENCIAL_3  ROTULO_ALVO_MAU_1  \n",
       "ID_CLIENTE                                        \n",
       "1                        Rare                  1  \n",
       "2                        Rare                  1  \n",
       "3                         591                  0  \n",
       "4                        Rare                  0  \n",
       "5                        Rare                  1  \n",
       "\n",
       "[5 rows x 29 columns]"
      ]
     },
     "execution_count": 148,
     "metadata": {},
     "output_type": "execute_result"
    }
   ],
   "source": [
    "import pandas as pd\n",
    "from feature_engine.encoding import RareLabelEncoder\n",
    "\n",
    "chaves = list(aplicar_RL.keys())\n",
    "\n",
    "# Converter as colunas para o tipo object (categórico)\n",
    "df[chaves] = df[chaves].astype('object')\n",
    "\n",
    "\n",
    "# Instanciar o RareLabelEncoder\n",
    "for col, tol in aplicar_RL.items():\n",
    "    encoder = RareLabelEncoder(tol=tol, replace_with='Rare', variables=[col])\n",
    "    df = encoder.fit_transform(df)\n",
    "\n",
    "\n",
    "# Visualizar as primeiras linhas do DataFrame atualizado\n",
    "df.head()"
   ]
  },
  {
   "cell_type": "markdown",
   "metadata": {},
   "source": [
    "## Count Frequency"
   ]
  },
  {
   "cell_type": "code",
   "execution_count": 149,
   "metadata": {},
   "outputs": [
    {
     "data": {
      "text/plain": [
       "['ESTADO_NASCIMENTO',\n",
       " 'ESTADO_RESIDENCIAL',\n",
       " 'CIDADE_RESIDENCIAL',\n",
       " 'BAIRRO_RESIDENCIAL',\n",
       " 'IDADE',\n",
       " 'CEP_RESIDENCIAL_3']"
      ]
     },
     "execution_count": 149,
     "metadata": {},
     "output_type": "execute_result"
    }
   ],
   "source": [
    "aplicar_CF"
   ]
  },
  {
   "cell_type": "code",
   "execution_count": 150,
   "metadata": {},
   "outputs": [],
   "source": [
    "for col in aplicar_CF:\n",
    "    frequency_counts = df[col].value_counts()\n",
    "    df[col] = df[col].map(frequency_counts)"
   ]
  },
  {
   "cell_type": "markdown",
   "metadata": {},
   "source": [
    "## One-Hot Encoding"
   ]
  },
  {
   "cell_type": "code",
   "execution_count": 151,
   "metadata": {},
   "outputs": [
    {
     "data": {
      "text/plain": [
       "['DIA_PAGAMENTO',\n",
       " 'TIPO_ENVIO_APLICACAO',\n",
       " 'SEXO',\n",
       " 'ESTADO_CIVIL',\n",
       " 'QUANT_DEPENDENTES',\n",
       " 'TIPO_RESIDENCIA',\n",
       " 'MESES_RESIDENCIA',\n",
       " 'QUANT_CONTAS_BANCARIAS',\n",
       " 'TIPO_OCUPACAO',\n",
       " 'PRODUTO']"
      ]
     },
     "execution_count": 151,
     "metadata": {},
     "output_type": "execute_result"
    }
   ],
   "source": [
    "aplicar_OHE"
   ]
  },
  {
   "cell_type": "code",
   "execution_count": 152,
   "metadata": {},
   "outputs": [
    {
     "data": {
      "text/html": [
       "<div>\n",
       "<style scoped>\n",
       "    .dataframe tbody tr th:only-of-type {\n",
       "        vertical-align: middle;\n",
       "    }\n",
       "\n",
       "    .dataframe tbody tr th {\n",
       "        vertical-align: top;\n",
       "    }\n",
       "\n",
       "    .dataframe thead th {\n",
       "        text-align: right;\n",
       "    }\n",
       "</style>\n",
       "<table border=\"1\" class=\"dataframe\">\n",
       "  <thead>\n",
       "    <tr style=\"text-align: right;\">\n",
       "      <th></th>\n",
       "      <th>TIPO_ENDERECO_POSTAL</th>\n",
       "      <th>ESTADO_NASCIMENTO</th>\n",
       "      <th>ESTADO_RESIDENCIAL</th>\n",
       "      <th>CIDADE_RESIDENCIAL</th>\n",
       "      <th>BAIRRO_RESIDENCIAL</th>\n",
       "      <th>FLAG_TELEFONE_RESIDENCIAL</th>\n",
       "      <th>FLAG_EMAIL</th>\n",
       "      <th>RENDA_PESSOAL_MENSAL</th>\n",
       "      <th>FLAG_VISA</th>\n",
       "      <th>FLAG_MASTERCARD</th>\n",
       "      <th>...</th>\n",
       "      <th>TIPO_OCUPACAO_0.0</th>\n",
       "      <th>TIPO_OCUPACAO_1.0</th>\n",
       "      <th>TIPO_OCUPACAO_2.0</th>\n",
       "      <th>TIPO_OCUPACAO_3.0</th>\n",
       "      <th>TIPO_OCUPACAO_4.0</th>\n",
       "      <th>TIPO_OCUPACAO_5.0</th>\n",
       "      <th>TIPO_OCUPACAO_nao informado</th>\n",
       "      <th>PRODUTO_1</th>\n",
       "      <th>PRODUTO_2</th>\n",
       "      <th>PRODUTO_7</th>\n",
       "    </tr>\n",
       "    <tr>\n",
       "      <th>ID_CLIENTE</th>\n",
       "      <th></th>\n",
       "      <th></th>\n",
       "      <th></th>\n",
       "      <th></th>\n",
       "      <th></th>\n",
       "      <th></th>\n",
       "      <th></th>\n",
       "      <th></th>\n",
       "      <th></th>\n",
       "      <th></th>\n",
       "      <th></th>\n",
       "      <th></th>\n",
       "      <th></th>\n",
       "      <th></th>\n",
       "      <th></th>\n",
       "      <th></th>\n",
       "      <th></th>\n",
       "      <th></th>\n",
       "      <th></th>\n",
       "      <th></th>\n",
       "      <th></th>\n",
       "    </tr>\n",
       "  </thead>\n",
       "  <tbody>\n",
       "    <tr>\n",
       "      <th>1</th>\n",
       "      <td>False</td>\n",
       "      <td>20845</td>\n",
       "      <td>22621</td>\n",
       "      <td>41319</td>\n",
       "      <td>4926</td>\n",
       "      <td>False</td>\n",
       "      <td>False</td>\n",
       "      <td>900.0</td>\n",
       "      <td>False</td>\n",
       "      <td>False</td>\n",
       "      <td>...</td>\n",
       "      <td>False</td>\n",
       "      <td>False</td>\n",
       "      <td>False</td>\n",
       "      <td>False</td>\n",
       "      <td>True</td>\n",
       "      <td>False</td>\n",
       "      <td>False</td>\n",
       "      <td>True</td>\n",
       "      <td>False</td>\n",
       "      <td>False</td>\n",
       "    </tr>\n",
       "    <tr>\n",
       "      <th>2</th>\n",
       "      <td>False</td>\n",
       "      <td>20845</td>\n",
       "      <td>22621</td>\n",
       "      <td>41319</td>\n",
       "      <td>44923</td>\n",
       "      <td>False</td>\n",
       "      <td>False</td>\n",
       "      <td>750.0</td>\n",
       "      <td>True</td>\n",
       "      <td>True</td>\n",
       "      <td>...</td>\n",
       "      <td>False</td>\n",
       "      <td>False</td>\n",
       "      <td>False</td>\n",
       "      <td>False</td>\n",
       "      <td>True</td>\n",
       "      <td>False</td>\n",
       "      <td>False</td>\n",
       "      <td>True</td>\n",
       "      <td>False</td>\n",
       "      <td>False</td>\n",
       "    </tr>\n",
       "    <tr>\n",
       "      <th>3</th>\n",
       "      <td>False</td>\n",
       "      <td>20845</td>\n",
       "      <td>22621</td>\n",
       "      <td>41319</td>\n",
       "      <td>44923</td>\n",
       "      <td>False</td>\n",
       "      <td>False</td>\n",
       "      <td>500.0</td>\n",
       "      <td>True</td>\n",
       "      <td>True</td>\n",
       "      <td>...</td>\n",
       "      <td>False</td>\n",
       "      <td>False</td>\n",
       "      <td>False</td>\n",
       "      <td>False</td>\n",
       "      <td>False</td>\n",
       "      <td>False</td>\n",
       "      <td>True</td>\n",
       "      <td>True</td>\n",
       "      <td>False</td>\n",
       "      <td>False</td>\n",
       "    </tr>\n",
       "    <tr>\n",
       "      <th>4</th>\n",
       "      <td>False</td>\n",
       "      <td>4081</td>\n",
       "      <td>3657</td>\n",
       "      <td>41319</td>\n",
       "      <td>44923</td>\n",
       "      <td>True</td>\n",
       "      <td>False</td>\n",
       "      <td>500.0</td>\n",
       "      <td>True</td>\n",
       "      <td>True</td>\n",
       "      <td>...</td>\n",
       "      <td>False</td>\n",
       "      <td>False</td>\n",
       "      <td>False</td>\n",
       "      <td>False</td>\n",
       "      <td>False</td>\n",
       "      <td>False</td>\n",
       "      <td>True</td>\n",
       "      <td>True</td>\n",
       "      <td>False</td>\n",
       "      <td>False</td>\n",
       "    </tr>\n",
       "    <tr>\n",
       "      <th>5</th>\n",
       "      <td>False</td>\n",
       "      <td>20845</td>\n",
       "      <td>22621</td>\n",
       "      <td>41319</td>\n",
       "      <td>44923</td>\n",
       "      <td>False</td>\n",
       "      <td>False</td>\n",
       "      <td>1200.0</td>\n",
       "      <td>True</td>\n",
       "      <td>True</td>\n",
       "      <td>...</td>\n",
       "      <td>False</td>\n",
       "      <td>False</td>\n",
       "      <td>False</td>\n",
       "      <td>False</td>\n",
       "      <td>False</td>\n",
       "      <td>True</td>\n",
       "      <td>False</td>\n",
       "      <td>True</td>\n",
       "      <td>False</td>\n",
       "      <td>False</td>\n",
       "    </tr>\n",
       "  </tbody>\n",
       "</table>\n",
       "<p>5 rows × 70 columns</p>\n",
       "</div>"
      ],
      "text/plain": [
       "            TIPO_ENDERECO_POSTAL  ESTADO_NASCIMENTO  ESTADO_RESIDENCIAL  \\\n",
       "ID_CLIENTE                                                                \n",
       "1                          False              20845               22621   \n",
       "2                          False              20845               22621   \n",
       "3                          False              20845               22621   \n",
       "4                          False               4081                3657   \n",
       "5                          False              20845               22621   \n",
       "\n",
       "            CIDADE_RESIDENCIAL  BAIRRO_RESIDENCIAL  FLAG_TELEFONE_RESIDENCIAL  \\\n",
       "ID_CLIENTE                                                                      \n",
       "1                        41319                4926                      False   \n",
       "2                        41319               44923                      False   \n",
       "3                        41319               44923                      False   \n",
       "4                        41319               44923                       True   \n",
       "5                        41319               44923                      False   \n",
       "\n",
       "            FLAG_EMAIL  RENDA_PESSOAL_MENSAL  FLAG_VISA  FLAG_MASTERCARD  ...  \\\n",
       "ID_CLIENTE                                                                ...   \n",
       "1                False                 900.0      False            False  ...   \n",
       "2                False                 750.0       True             True  ...   \n",
       "3                False                 500.0       True             True  ...   \n",
       "4                False                 500.0       True             True  ...   \n",
       "5                False                1200.0       True             True  ...   \n",
       "\n",
       "            TIPO_OCUPACAO_0.0  TIPO_OCUPACAO_1.0  TIPO_OCUPACAO_2.0  \\\n",
       "ID_CLIENTE                                                            \n",
       "1                       False              False              False   \n",
       "2                       False              False              False   \n",
       "3                       False              False              False   \n",
       "4                       False              False              False   \n",
       "5                       False              False              False   \n",
       "\n",
       "            TIPO_OCUPACAO_3.0  TIPO_OCUPACAO_4.0  TIPO_OCUPACAO_5.0  \\\n",
       "ID_CLIENTE                                                            \n",
       "1                       False               True              False   \n",
       "2                       False               True              False   \n",
       "3                       False              False              False   \n",
       "4                       False              False              False   \n",
       "5                       False              False               True   \n",
       "\n",
       "            TIPO_OCUPACAO_nao informado  PRODUTO_1 PRODUTO_2  PRODUTO_7  \n",
       "ID_CLIENTE                                                               \n",
       "1                                 False       True     False      False  \n",
       "2                                 False       True     False      False  \n",
       "3                                  True       True     False      False  \n",
       "4                                  True       True     False      False  \n",
       "5                                 False       True     False      False  \n",
       "\n",
       "[5 rows x 70 columns]"
      ]
     },
     "execution_count": 152,
     "metadata": {},
     "output_type": "execute_result"
    }
   ],
   "source": [
    "df = pd.get_dummies(df, columns=aplicar_OHE, prefix=aplicar_OHE)\n",
    "df.head()"
   ]
  },
  {
   "cell_type": "markdown",
   "metadata": {},
   "source": [
    "# Modelo Regressão Logistica"
   ]
  },
  {
   "cell_type": "code",
   "execution_count": 153,
   "metadata": {},
   "outputs": [
    {
     "name": "stdout",
     "output_type": "stream",
     "text": [
      "Acurácia: 0.7391507856904046\n",
      "\n",
      "Relatório de Classificação:\n",
      "               precision    recall  f1-score   support\n",
      "\n",
      "           0       0.74      1.00      0.85     11062\n",
      "           1       0.38      0.00      0.01      3893\n",
      "\n",
      "    accuracy                           0.74     14955\n",
      "   macro avg       0.56      0.50      0.43     14955\n",
      "weighted avg       0.64      0.74      0.63     14955\n",
      "\n",
      "\n",
      "Matriz de Confusão:\n",
      " [[11042    20]\n",
      " [ 3881    12]]\n"
     ]
    }
   ],
   "source": [
    "# Importar bibliotecas necessárias\n",
    "import pandas as pd\n",
    "from sklearn.model_selection import train_test_split\n",
    "from sklearn.linear_model import LogisticRegression\n",
    "from sklearn.metrics import classification_report, confusion_matrix, accuracy_score\n",
    "\n",
    "# 1. Preparar o Dataset\n",
    "\n",
    "# Definir a variável alvo (exemplo: 'STATUS_PAGAMENTO' onde 1 = bom pagador, 0 = mau pagador)\n",
    "y = df['ROTULO_ALVO_MAU_1']  # Substitua pelo nome correto da sua coluna alvo\n",
    "\n",
    "# Definir as variáveis preditoras (X)\n",
    "X = df.drop(columns=['ROTULO_ALVO_MAU_1'])  # Retiramos a variável alvo das variáveis preditoras\n",
    "\n",
    "# 2. Dividir o Dataset em treino e teste\n",
    "X_train, X_test, y_train, y_test = train_test_split(X, y, test_size=0.3, random_state=42)\n",
    "\n",
    "# 3. Treinar o Modelo de Regressão Logística\n",
    "modelo = LogisticRegression(max_iter=1000)  # max_iter aumentado para garantir convergência\n",
    "modelo.fit(X_train, y_train)\n",
    "\n",
    "# 4. Fazer previsões e avaliar a performance\n",
    "y_pred = modelo.predict(X_test)\n",
    "\n",
    "# Avaliar a performance\n",
    "print(\"Acurácia:\", accuracy_score(y_test, y_pred))\n",
    "print(\"\\nRelatório de Classificação:\\n\", classification_report(y_test, y_pred))\n",
    "print(\"\\nMatriz de Confusão:\\n\", confusion_matrix(y_test,y_pred))"
   ]
  }
 ],
 "metadata": {
  "kernelspec": {
   "display_name": "Python 3",
   "language": "python",
   "name": "python3"
  },
  "language_info": {
   "codemirror_mode": {
    "name": "ipython",
    "version": 3
   },
   "file_extension": ".py",
   "mimetype": "text/x-python",
   "name": "python",
   "nbconvert_exporter": "python",
   "pygments_lexer": "ipython3",
   "version": "3.12.0"
  }
 },
 "nbformat": 4,
 "nbformat_minor": 2
}
